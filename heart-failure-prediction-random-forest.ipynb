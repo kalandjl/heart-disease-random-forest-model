{
 "cells": [
  {
   "cell_type": "code",
   "execution_count": 1,
   "id": "7b56cf42",
   "metadata": {
    "_cell_guid": "b1076dfc-b9ad-4769-8c92-a6c4dae69d19",
    "_uuid": "8f2839f25d086af736a60e9eeb907d3b93b6e0e5",
    "execution": {
     "iopub.execute_input": "2025-06-02T23:26:44.299663Z",
     "iopub.status.busy": "2025-06-02T23:26:44.299418Z",
     "iopub.status.idle": "2025-06-02T23:26:46.751483Z",
     "shell.execute_reply": "2025-06-02T23:26:46.750783Z"
    },
    "papermill": {
     "duration": 2.457002,
     "end_time": "2025-06-02T23:26:46.752880",
     "exception": false,
     "start_time": "2025-06-02T23:26:44.295878",
     "status": "completed"
    },
    "tags": []
   },
   "outputs": [],
   "source": [
    "from fastai.imports import *\n",
    "np.set_printoptions(linewidth=130)\n",
    "\n",
    "import os\n",
    "iskaggle = os.environ.get('KAGGLE_KERNEL_RUN_TYPE', '')\n",
    "\n",
    "if iskaggle: path = Path('../input/heart-failure-prediction')\n",
    "else:\n",
    "    import zipfile,kaggle\n",
    "    path = Path('heart-failure-prediction')\n",
    "    kaggle.api.competition_download_cli(str(path))\n",
    "    zipfile.ZipFile(f'{path}.zip').extractall(path)\n"
   ]
  },
  {
   "cell_type": "code",
   "execution_count": 2,
   "id": "7e6c4e4a",
   "metadata": {
    "execution": {
     "iopub.execute_input": "2025-06-02T23:26:46.759068Z",
     "iopub.status.busy": "2025-06-02T23:26:46.758290Z",
     "iopub.status.idle": "2025-06-02T23:26:46.803093Z",
     "shell.execute_reply": "2025-06-02T23:26:46.802430Z"
    },
    "papermill": {
     "duration": 0.048977,
     "end_time": "2025-06-02T23:26:46.804524",
     "exception": false,
     "start_time": "2025-06-02T23:26:46.755547",
     "status": "completed"
    },
    "tags": []
   },
   "outputs": [
    {
     "data": {
      "text/html": [
       "<div>\n",
       "<style scoped>\n",
       "    .dataframe tbody tr th:only-of-type {\n",
       "        vertical-align: middle;\n",
       "    }\n",
       "\n",
       "    .dataframe tbody tr th {\n",
       "        vertical-align: top;\n",
       "    }\n",
       "\n",
       "    .dataframe thead th {\n",
       "        text-align: right;\n",
       "    }\n",
       "</style>\n",
       "<table border=\"1\" class=\"dataframe\">\n",
       "  <thead>\n",
       "    <tr style=\"text-align: right;\">\n",
       "      <th></th>\n",
       "      <th>Age</th>\n",
       "      <th>Sex</th>\n",
       "      <th>ChestPainType</th>\n",
       "      <th>RestingBP</th>\n",
       "      <th>Cholesterol</th>\n",
       "      <th>FastingBS</th>\n",
       "      <th>RestingECG</th>\n",
       "      <th>MaxHR</th>\n",
       "      <th>ExerciseAngina</th>\n",
       "      <th>Oldpeak</th>\n",
       "      <th>ST_Slope</th>\n",
       "      <th>HeartDisease</th>\n",
       "    </tr>\n",
       "  </thead>\n",
       "  <tbody>\n",
       "    <tr>\n",
       "      <th>0</th>\n",
       "      <td>40</td>\n",
       "      <td>M</td>\n",
       "      <td>ATA</td>\n",
       "      <td>140</td>\n",
       "      <td>289</td>\n",
       "      <td>0</td>\n",
       "      <td>Normal</td>\n",
       "      <td>172</td>\n",
       "      <td>N</td>\n",
       "      <td>0.0</td>\n",
       "      <td>Up</td>\n",
       "      <td>0</td>\n",
       "    </tr>\n",
       "    <tr>\n",
       "      <th>1</th>\n",
       "      <td>49</td>\n",
       "      <td>F</td>\n",
       "      <td>NAP</td>\n",
       "      <td>160</td>\n",
       "      <td>180</td>\n",
       "      <td>0</td>\n",
       "      <td>Normal</td>\n",
       "      <td>156</td>\n",
       "      <td>N</td>\n",
       "      <td>1.0</td>\n",
       "      <td>Flat</td>\n",
       "      <td>1</td>\n",
       "    </tr>\n",
       "    <tr>\n",
       "      <th>2</th>\n",
       "      <td>37</td>\n",
       "      <td>M</td>\n",
       "      <td>ATA</td>\n",
       "      <td>130</td>\n",
       "      <td>283</td>\n",
       "      <td>0</td>\n",
       "      <td>ST</td>\n",
       "      <td>98</td>\n",
       "      <td>N</td>\n",
       "      <td>0.0</td>\n",
       "      <td>Up</td>\n",
       "      <td>0</td>\n",
       "    </tr>\n",
       "    <tr>\n",
       "      <th>3</th>\n",
       "      <td>48</td>\n",
       "      <td>F</td>\n",
       "      <td>ASY</td>\n",
       "      <td>138</td>\n",
       "      <td>214</td>\n",
       "      <td>0</td>\n",
       "      <td>Normal</td>\n",
       "      <td>108</td>\n",
       "      <td>Y</td>\n",
       "      <td>1.5</td>\n",
       "      <td>Flat</td>\n",
       "      <td>1</td>\n",
       "    </tr>\n",
       "    <tr>\n",
       "      <th>4</th>\n",
       "      <td>54</td>\n",
       "      <td>M</td>\n",
       "      <td>NAP</td>\n",
       "      <td>150</td>\n",
       "      <td>195</td>\n",
       "      <td>0</td>\n",
       "      <td>Normal</td>\n",
       "      <td>122</td>\n",
       "      <td>N</td>\n",
       "      <td>0.0</td>\n",
       "      <td>Up</td>\n",
       "      <td>0</td>\n",
       "    </tr>\n",
       "  </tbody>\n",
       "</table>\n",
       "</div>"
      ],
      "text/plain": [
       "   Age Sex ChestPainType  RestingBP  Cholesterol  FastingBS RestingECG  MaxHR  \\\n",
       "0   40   M           ATA        140          289          0     Normal    172   \n",
       "1   49   F           NAP        160          180          0     Normal    156   \n",
       "2   37   M           ATA        130          283          0         ST     98   \n",
       "3   48   F           ASY        138          214          0     Normal    108   \n",
       "4   54   M           NAP        150          195          0     Normal    122   \n",
       "\n",
       "  ExerciseAngina  Oldpeak ST_Slope  HeartDisease  \n",
       "0              N      0.0       Up             0  \n",
       "1              N      1.0     Flat             1  \n",
       "2              N      0.0       Up             0  \n",
       "3              Y      1.5     Flat             1  \n",
       "4              N      0.0       Up             0  "
      ]
     },
     "execution_count": 2,
     "metadata": {},
     "output_type": "execute_result"
    }
   ],
   "source": [
    "\n",
    "import pandas as pd\n",
    "\n",
    "# CSV path provided by Kaggle when you add the dataset to your notebook\n",
    "df = pd.read_csv(\"/kaggle/input/heart-failure-prediction/heart.csv\")\n",
    "\n",
    "# Show first few rows\n",
    "df.head()"
   ]
  },
  {
   "cell_type": "code",
   "execution_count": 3,
   "id": "118a4547",
   "metadata": {
    "execution": {
     "iopub.execute_input": "2025-06-02T23:26:46.813130Z",
     "iopub.status.busy": "2025-06-02T23:26:46.812921Z",
     "iopub.status.idle": "2025-06-02T23:26:46.823945Z",
     "shell.execute_reply": "2025-06-02T23:26:46.823287Z"
    },
    "papermill": {
     "duration": 0.016517,
     "end_time": "2025-06-02T23:26:46.825094",
     "exception": false,
     "start_time": "2025-06-02T23:26:46.808577",
     "status": "completed"
    },
    "tags": []
   },
   "outputs": [],
   "source": [
    "modes = df.mode().iloc[0]"
   ]
  },
  {
   "cell_type": "code",
   "execution_count": 4,
   "id": "6a4c3ee7",
   "metadata": {
    "execution": {
     "iopub.execute_input": "2025-06-02T23:26:46.830356Z",
     "iopub.status.busy": "2025-06-02T23:26:46.830156Z",
     "iopub.status.idle": "2025-06-02T23:26:46.847249Z",
     "shell.execute_reply": "2025-06-02T23:26:46.846666Z"
    },
    "papermill": {
     "duration": 0.020929,
     "end_time": "2025-06-02T23:26:46.848334",
     "exception": false,
     "start_time": "2025-06-02T23:26:46.827405",
     "status": "completed"
    },
    "tags": []
   },
   "outputs": [],
   "source": [
    "cats = ['Sex', 'ChestPainType', 'RestingECG', 'ExerciseAngina', 'ST_Slope', 'FastingBS']\n",
    "conts = ['Age', 'RestingBP', 'Cholesterol', 'MaxHR', 'Oldpeak']\n",
    "dep = 'HeartDisease'\n",
    "\n",
    "def proc_data(df):\n",
    "    df.fillna(modes, inplace=True)\n",
    "\n",
    "    for i in cats:\n",
    "        df[i] = pd.Categorical(df[i])\n",
    "\n",
    "proc_data(df)"
   ]
  },
  {
   "cell_type": "code",
   "execution_count": 5,
   "id": "2de9c603",
   "metadata": {
    "execution": {
     "iopub.execute_input": "2025-06-02T23:26:46.854290Z",
     "iopub.status.busy": "2025-06-02T23:26:46.854065Z",
     "iopub.status.idle": "2025-06-02T23:26:46.859155Z",
     "shell.execute_reply": "2025-06-02T23:26:46.858505Z"
    },
    "papermill": {
     "duration": 0.009436,
     "end_time": "2025-06-02T23:26:46.860438",
     "exception": false,
     "start_time": "2025-06-02T23:26:46.851002",
     "status": "completed"
    },
    "tags": []
   },
   "outputs": [
    {
     "data": {
      "text/plain": [
       "0    1\n",
       "1    0\n",
       "2    1\n",
       "3    0\n",
       "4    1\n",
       "dtype: int8"
      ]
     },
     "execution_count": 5,
     "metadata": {},
     "output_type": "execute_result"
    }
   ],
   "source": [
    "df.Sex.cat.codes.head()"
   ]
  },
  {
   "cell_type": "code",
   "execution_count": 6,
   "id": "a1804521",
   "metadata": {
    "execution": {
     "iopub.execute_input": "2025-06-02T23:26:46.868556Z",
     "iopub.status.busy": "2025-06-02T23:26:46.868361Z",
     "iopub.status.idle": "2025-06-02T23:26:48.431564Z",
     "shell.execute_reply": "2025-06-02T23:26:48.430827Z"
    },
    "papermill": {
     "duration": 1.568365,
     "end_time": "2025-06-02T23:26:48.432610",
     "exception": false,
     "start_time": "2025-06-02T23:26:46.864245",
     "status": "completed"
    },
    "tags": []
   },
   "outputs": [
    {
     "name": "stderr",
     "output_type": "stream",
     "text": [
      "/usr/local/lib/python3.11/dist-packages/seaborn/categorical.py:641: FutureWarning: The default of observed=False is deprecated and will be changed to True in a future version of pandas. Pass observed=False to retain current behavior or observed=True to adopt the future default and silence this warning.\n",
      "  grouped_vals = vals.groupby(grouper)\n"
     ]
    },
    {
     "data": {
      "image/png": "[encoded data removed]",
      "text/plain": [
       "<Figure size 1100x500 with 2 Axes>"
      ]
     },
     "metadata": {},
     "output_type": "display_data"
    }
   ],
   "source": [
    "import seaborn as sns\n",
    "\n",
    "fig,axs = plt.subplots(1,2, figsize=(11,5))\n",
    "sns.barplot(data=df, y=dep, x=\"Sex\", ax=axs[0]).set(title=\"Heart Disease Rate\")\n",
    "sns.countplot(data=df, x=\"Sex\", ax=axs[1]).set(title=\"Histogram\");"
   ]
  },
  {
   "cell_type": "markdown",
   "id": "7a992d53",
   "metadata": {
    "papermill": {
     "duration": 0.002438,
     "end_time": "2025-06-02T23:26:48.437955",
     "exception": false,
     "start_time": "2025-06-02T23:26:48.435517",
     "status": "completed"
    },
    "tags": []
   },
   "source": [
    "Here we can see that if we make a binary split just based on gender, we would be able to predict heart disease with much better accuracy."
   ]
  },
  {
   "cell_type": "code",
   "execution_count": 7,
   "id": "dd985c44",
   "metadata": {
    "execution": {
     "iopub.execute_input": "2025-06-02T23:26:48.443837Z",
     "iopub.status.busy": "2025-06-02T23:26:48.443497Z",
     "iopub.status.idle": "2025-06-02T23:26:48.693131Z",
     "shell.execute_reply": "2025-06-02T23:26:48.692402Z"
    },
    "papermill": {
     "duration": 0.253961,
     "end_time": "2025-06-02T23:26:48.694388",
     "exception": false,
     "start_time": "2025-06-02T23:26:48.440427",
     "status": "completed"
    },
    "tags": []
   },
   "outputs": [
    {
     "data": {
      "text/plain": [
       "0.6565217391304348"
      ]
     },
     "execution_count": 7,
     "metadata": {},
     "output_type": "execute_result"
    }
   ],
   "source": [
    "from numpy import random\n",
    "from sklearn.model_selection import train_test_split\n",
    "\n",
    "random.seed(42)\n",
    "trn_df,val_df = train_test_split(df, test_size=0.25)\n",
    "trn_df[cats] = trn_df[cats].apply(lambda x: x.cat.codes)\n",
    "val_df[cats] = val_df[cats].apply(lambda x: x.cat.codes)\n",
    "\n",
    "def xs_y(df):\n",
    "    xs = df[cats+conts].copy()\n",
    "    return xs,df[dep] if dep in df else None\n",
    "\n",
    "trn_xs,trn_y = xs_y(trn_df)\n",
    "val_xs,val_y = xs_y(val_df)\n",
    "\n",
    "preds = val_xs.Sex==0\n",
    "\n",
    "from sklearn.metrics import mean_absolute_error\n",
    "mean_absolute_error(val_y, preds)"
   ]
  },
  {
   "cell_type": "markdown",
   "id": "d77f1841",
   "metadata": {
    "papermill": {
     "duration": 0.002593,
     "end_time": "2025-06-02T23:26:48.699870",
     "exception": false,
     "start_time": "2025-06-02T23:26:48.697277",
     "status": "completed"
    },
    "tags": []
   },
   "source": [
    "With this model, we achieve an mse of 0.657\n",
    "\n",
    "Now, let's analyze what a split would look like on a continuous column. For example, take Age:"
   ]
  },
  {
   "cell_type": "code",
   "execution_count": 8,
   "id": "e23015d2",
   "metadata": {
    "execution": {
     "iopub.execute_input": "2025-06-02T23:26:48.705977Z",
     "iopub.status.busy": "2025-06-02T23:26:48.705539Z",
     "iopub.status.idle": "2025-06-02T23:26:49.018030Z",
     "shell.execute_reply": "2025-06-02T23:26:49.017354Z"
    },
    "papermill": {
     "duration": 0.316711,
     "end_time": "2025-06-02T23:26:49.019159",
     "exception": false,
     "start_time": "2025-06-02T23:26:48.702448",
     "status": "completed"
    },
    "tags": []
   },
   "outputs": [
    {
     "name": "stderr",
     "output_type": "stream",
     "text": [
      "/usr/local/lib/python3.11/dist-packages/seaborn/categorical.py:1794: FutureWarning: use_inf_as_na option is deprecated and will be removed in a future version. Convert inf values to NaN before operating instead.\n",
      "  with pd.option_context('mode.use_inf_as_na', True):\n",
      "/usr/local/lib/python3.11/dist-packages/seaborn/categorical.py:1794: FutureWarning: use_inf_as_na option is deprecated and will be removed in a future version. Convert inf values to NaN before operating instead.\n",
      "  with pd.option_context('mode.use_inf_as_na', True):\n",
      "/usr/local/lib/python3.11/dist-packages/seaborn/_oldcore.py:1119: FutureWarning: use_inf_as_na option is deprecated and will be removed in a future version. Convert inf values to NaN before operating instead.\n",
      "  with pd.option_context('mode.use_inf_as_na', True):\n"
     ]
    },
    {
     "data": {
      "image/png": "[encoded data removed]",
      "text/plain": [
       "<Figure size 1100x500 with 2 Axes>"
      ]
     },
     "metadata": {},
     "output_type": "display_data"
    }
   ],
   "source": [
    "df_fare = trn_df[trn_df.Age>0]\n",
    "fig,axs = plt.subplots(1,2, figsize=(11,5))\n",
    "sns.boxenplot(data=df_fare, x=dep, y=\"Age\", ax=axs[0])\n",
    "sns.kdeplot(data=df_fare, x=\"Age\", ax=axs[1]);"
   ]
  },
  {
   "cell_type": "markdown",
   "id": "818a6ced",
   "metadata": {
    "papermill": {
     "duration": 0.003282,
     "end_time": "2025-06-02T23:26:49.025964",
     "exception": false,
     "start_time": "2025-06-02T23:26:49.022682",
     "status": "completed"
    },
    "tags": []
   },
   "source": [
    "While less accurate then 'sex' binary split, we still achieve an mse of 0.417."
   ]
  },
  {
   "cell_type": "code",
   "execution_count": 9,
   "id": "8b7db915",
   "metadata": {
    "execution": {
     "iopub.execute_input": "2025-06-02T23:26:49.033651Z",
     "iopub.status.busy": "2025-06-02T23:26:49.033236Z",
     "iopub.status.idle": "2025-06-02T23:26:49.039006Z",
     "shell.execute_reply": "2025-06-02T23:26:49.038407Z"
    },
    "papermill": {
     "duration": 0.010656,
     "end_time": "2025-06-02T23:26:49.040031",
     "exception": false,
     "start_time": "2025-06-02T23:26:49.029375",
     "status": "completed"
    },
    "tags": []
   },
   "outputs": [
    {
     "data": {
      "text/plain": [
       "0.41739130434782606"
      ]
     },
     "execution_count": 9,
     "metadata": {},
     "output_type": "execute_result"
    }
   ],
   "source": [
    "preds = val_xs.Age>52\n",
    "mean_absolute_error(val_y, preds)"
   ]
  }
 ],
 "metadata": {
  "kaggle": {
   "accelerator": "gpu",
   "dataSources": [
    {
     "datasetId": 1582403,
     "sourceId": 2603715,
     "sourceType": "datasetVersion"
    }
   ],
   "dockerImageVersionId": 31041,
   "isGpuEnabled": true,
   "isInternetEnabled": true,
   "language": "python",
   "sourceType": "notebook"
  },
  "kernelspec": {
   "display_name": "Python 3",
   "language": "python",
   "name": "python3"
  },
  "language_info": {
   "codemirror_mode": {
    "name": "ipython",
    "version": 3
   },
   "file_extension": ".py",
   "mimetype": "text/x-python",
   "name": "python",
   "nbconvert_exporter": "python",
   "pygments_lexer": "ipython3",
   "version": "3.11.11"
  },
  "papermill": {
   "default_parameters": {},
   "duration": 9.780208,
   "end_time": "2025-06-02T23:26:49.561685",
   "environment_variables": {},
   "exception": null,
   "input_path": "__notebook__.ipynb",
   "output_path": "__notebook__.ipynb",
   "parameters": {},
   "start_time": "2025-06-02T23:26:39.781477",
   "version": "2.6.0"
  }
 },
 "nbformat": 4,
 "nbformat_minor": 5
}
