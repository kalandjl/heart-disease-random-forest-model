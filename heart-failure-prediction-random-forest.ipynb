{
 "cells": [
  {
   "cell_type": "code",
   "execution_count": 1,
   "id": "30934561",
   "metadata": {
    "_cell_guid": "b1076dfc-b9ad-4769-8c92-a6c4dae69d19",
    "_uuid": "8f2839f25d086af736a60e9eeb907d3b93b6e0e5",
    "execution": {
     "iopub.execute_input": "2025-06-03T00:14:05.831453Z",
     "iopub.status.busy": "2025-06-03T00:14:05.831143Z",
     "iopub.status.idle": "2025-06-03T00:14:07.966942Z",
     "shell.execute_reply": "2025-06-03T00:14:07.966394Z"
    },
    "papermill": {
     "duration": 2.143181,
     "end_time": "2025-06-03T00:14:07.968242",
     "exception": false,
     "start_time": "2025-06-03T00:14:05.825061",
     "status": "completed"
    },
    "tags": []
   },
   "outputs": [],
   "source": [
    "from fastai.imports import *\n",
    "np.set_printoptions(linewidth=130)\n",
    "\n",
    "import os\n",
    "iskaggle = os.environ.get('KAGGLE_KERNEL_RUN_TYPE', '')\n",
    "\n",
    "if iskaggle: path = Path('../input/heart-failure-prediction')\n",
    "else:\n",
    "    import zipfile,kaggle\n",
    "    path = Path('heart-failure-prediction')\n",
    "    kaggle.api.competition_download_cli(str(path))\n",
    "    zipfile.ZipFile(f'{path}.zip').extractall(path)\n"
   ]
  },
  {
   "cell_type": "code",
   "execution_count": 2,
   "id": "ed6bbe82",
   "metadata": {
    "execution": {
     "iopub.execute_input": "2025-06-03T00:14:07.978314Z",
     "iopub.status.busy": "2025-06-03T00:14:07.977799Z",
     "iopub.status.idle": "2025-06-03T00:14:08.022336Z",
     "shell.execute_reply": "2025-06-03T00:14:08.021605Z"
    },
    "papermill": {
     "duration": 0.050595,
     "end_time": "2025-06-03T00:14:08.023655",
     "exception": false,
     "start_time": "2025-06-03T00:14:07.973060",
     "status": "completed"
    },
    "tags": []
   },
   "outputs": [
    {
     "data": {
      "text/html": [
       "<div>\n",
       "<style scoped>\n",
       "    .dataframe tbody tr th:only-of-type {\n",
       "        vertical-align: middle;\n",
       "    }\n",
       "\n",
       "    .dataframe tbody tr th {\n",
       "        vertical-align: top;\n",
       "    }\n",
       "\n",
       "    .dataframe thead th {\n",
       "        text-align: right;\n",
       "    }\n",
       "</style>\n",
       "<table border=\"1\" class=\"dataframe\">\n",
       "  <thead>\n",
       "    <tr style=\"text-align: right;\">\n",
       "      <th></th>\n",
       "      <th>Age</th>\n",
       "      <th>Sex</th>\n",
       "      <th>ChestPainType</th>\n",
       "      <th>RestingBP</th>\n",
       "      <th>Cholesterol</th>\n",
       "      <th>FastingBS</th>\n",
       "      <th>RestingECG</th>\n",
       "      <th>MaxHR</th>\n",
       "      <th>ExerciseAngina</th>\n",
       "      <th>Oldpeak</th>\n",
       "      <th>ST_Slope</th>\n",
       "      <th>HeartDisease</th>\n",
       "    </tr>\n",
       "  </thead>\n",
       "  <tbody>\n",
       "    <tr>\n",
       "      <th>0</th>\n",
       "      <td>40</td>\n",
       "      <td>M</td>\n",
       "      <td>ATA</td>\n",
       "      <td>140</td>\n",
       "      <td>289</td>\n",
       "      <td>0</td>\n",
       "      <td>Normal</td>\n",
       "      <td>172</td>\n",
       "      <td>N</td>\n",
       "      <td>0.0</td>\n",
       "      <td>Up</td>\n",
       "      <td>0</td>\n",
       "    </tr>\n",
       "    <tr>\n",
       "      <th>1</th>\n",
       "      <td>49</td>\n",
       "      <td>F</td>\n",
       "      <td>NAP</td>\n",
       "      <td>160</td>\n",
       "      <td>180</td>\n",
       "      <td>0</td>\n",
       "      <td>Normal</td>\n",
       "      <td>156</td>\n",
       "      <td>N</td>\n",
       "      <td>1.0</td>\n",
       "      <td>Flat</td>\n",
       "      <td>1</td>\n",
       "    </tr>\n",
       "    <tr>\n",
       "      <th>2</th>\n",
       "      <td>37</td>\n",
       "      <td>M</td>\n",
       "      <td>ATA</td>\n",
       "      <td>130</td>\n",
       "      <td>283</td>\n",
       "      <td>0</td>\n",
       "      <td>ST</td>\n",
       "      <td>98</td>\n",
       "      <td>N</td>\n",
       "      <td>0.0</td>\n",
       "      <td>Up</td>\n",
       "      <td>0</td>\n",
       "    </tr>\n",
       "    <tr>\n",
       "      <th>3</th>\n",
       "      <td>48</td>\n",
       "      <td>F</td>\n",
       "      <td>ASY</td>\n",
       "      <td>138</td>\n",
       "      <td>214</td>\n",
       "      <td>0</td>\n",
       "      <td>Normal</td>\n",
       "      <td>108</td>\n",
       "      <td>Y</td>\n",
       "      <td>1.5</td>\n",
       "      <td>Flat</td>\n",
       "      <td>1</td>\n",
       "    </tr>\n",
       "    <tr>\n",
       "      <th>4</th>\n",
       "      <td>54</td>\n",
       "      <td>M</td>\n",
       "      <td>NAP</td>\n",
       "      <td>150</td>\n",
       "      <td>195</td>\n",
       "      <td>0</td>\n",
       "      <td>Normal</td>\n",
       "      <td>122</td>\n",
       "      <td>N</td>\n",
       "      <td>0.0</td>\n",
       "      <td>Up</td>\n",
       "      <td>0</td>\n",
       "    </tr>\n",
       "  </tbody>\n",
       "</table>\n",
       "</div>"
      ],
      "text/plain": [
       "   Age Sex ChestPainType  RestingBP  Cholesterol  FastingBS RestingECG  MaxHR  \\\n",
       "0   40   M           ATA        140          289          0     Normal    172   \n",
       "1   49   F           NAP        160          180          0     Normal    156   \n",
       "2   37   M           ATA        130          283          0         ST     98   \n",
       "3   48   F           ASY        138          214          0     Normal    108   \n",
       "4   54   M           NAP        150          195          0     Normal    122   \n",
       "\n",
       "  ExerciseAngina  Oldpeak ST_Slope  HeartDisease  \n",
       "0              N      0.0       Up             0  \n",
       "1              N      1.0     Flat             1  \n",
       "2              N      0.0       Up             0  \n",
       "3              Y      1.5     Flat             1  \n",
       "4              N      0.0       Up             0  "
      ]
     },
     "execution_count": 2,
     "metadata": {},
     "output_type": "execute_result"
    }
   ],
   "source": [
    "\n",
    "import pandas as pd\n",
    "\n",
    "# CSV path provided by Kaggle when you add the dataset to your notebook\n",
    "df = pd.read_csv(\"/kaggle/input/heart-failure-prediction/heart.csv\")\n",
    "\n",
    "# Show first few rows\n",
    "df.head()"
   ]
  },
  {
   "cell_type": "code",
   "execution_count": 3,
   "id": "3ba47b68",
   "metadata": {
    "execution": {
     "iopub.execute_input": "2025-06-03T00:14:08.033701Z",
     "iopub.status.busy": "2025-06-03T00:14:08.033482Z",
     "iopub.status.idle": "2025-06-03T00:14:08.044573Z",
     "shell.execute_reply": "2025-06-03T00:14:08.044033Z"
    },
    "papermill": {
     "duration": 0.017138,
     "end_time": "2025-06-03T00:14:08.045592",
     "exception": false,
     "start_time": "2025-06-03T00:14:08.028454",
     "status": "completed"
    },
    "tags": []
   },
   "outputs": [],
   "source": [
    "modes = df.mode().iloc[0]"
   ]
  },
  {
   "cell_type": "code",
   "execution_count": 4,
   "id": "13fd7f57",
   "metadata": {
    "execution": {
     "iopub.execute_input": "2025-06-03T00:14:08.055181Z",
     "iopub.status.busy": "2025-06-03T00:14:08.054966Z",
     "iopub.status.idle": "2025-06-03T00:14:08.072122Z",
     "shell.execute_reply": "2025-06-03T00:14:08.071667Z"
    },
    "papermill": {
     "duration": 0.02324,
     "end_time": "2025-06-03T00:14:08.073228",
     "exception": false,
     "start_time": "2025-06-03T00:14:08.049988",
     "status": "completed"
    },
    "tags": []
   },
   "outputs": [],
   "source": [
    "cats = ['Sex', 'ChestPainType', 'RestingECG', 'ExerciseAngina', 'ST_Slope', 'FastingBS']\n",
    "conts = ['Age', 'RestingBP', 'Cholesterol', 'MaxHR', 'Oldpeak']\n",
    "dep = 'HeartDisease'\n",
    "\n",
    "def proc_data(df):\n",
    "    df.fillna(modes, inplace=True)\n",
    "\n",
    "    for i in cats:\n",
    "        df[i] = pd.Categorical(df[i])\n",
    "\n",
    "proc_data(df)"
   ]
  },
  {
   "cell_type": "code",
   "execution_count": 5,
   "id": "eebb95d4",
   "metadata": {
    "execution": {
     "iopub.execute_input": "2025-06-03T00:14:08.082760Z",
     "iopub.status.busy": "2025-06-03T00:14:08.082568Z",
     "iopub.status.idle": "2025-06-03T00:14:08.087718Z",
     "shell.execute_reply": "2025-06-03T00:14:08.087024Z"
    },
    "papermill": {
     "duration": 0.011114,
     "end_time": "2025-06-03T00:14:08.088844",
     "exception": false,
     "start_time": "2025-06-03T00:14:08.077730",
     "status": "completed"
    },
    "tags": []
   },
   "outputs": [
    {
     "data": {
      "text/plain": [
       "0    1\n",
       "1    0\n",
       "2    1\n",
       "3    0\n",
       "4    1\n",
       "dtype: int8"
      ]
     },
     "execution_count": 5,
     "metadata": {},
     "output_type": "execute_result"
    }
   ],
   "source": [
    "df.Sex.cat.codes.head()"
   ]
  },
  {
   "cell_type": "code",
   "execution_count": 6,
   "id": "e0bf74c7",
   "metadata": {
    "execution": {
     "iopub.execute_input": "2025-06-03T00:14:08.098107Z",
     "iopub.status.busy": "2025-06-03T00:14:08.097928Z",
     "iopub.status.idle": "2025-06-03T00:14:09.553010Z",
     "shell.execute_reply": "2025-06-03T00:14:09.552299Z"
    },
    "papermill": {
     "duration": 1.460998,
     "end_time": "2025-06-03T00:14:09.554224",
     "exception": false,
     "start_time": "2025-06-03T00:14:08.093226",
     "status": "completed"
    },
    "tags": []
   },
   "outputs": [
    {
     "name": "stderr",
     "output_type": "stream",
     "text": [
      "/usr/local/lib/python3.11/dist-packages/seaborn/categorical.py:641: FutureWarning: The default of observed=False is deprecated and will be changed to True in a future version of pandas. Pass observed=False to retain current behavior or observed=True to adopt the future default and silence this warning.\n",
      "  grouped_vals = vals.groupby(grouper)\n"
     ]
    },
    {
     "data": {
      "image/png": "[encoded data removed]",
      "text/plain": [
       "<Figure size 1100x500 with 2 Axes>"
      ]
     },
     "metadata": {},
     "output_type": "display_data"
    }
   ],
   "source": [
    "import seaborn as sns\n",
    "\n",
    "fig,axs = plt.subplots(1,2, figsize=(11,5))\n",
    "sns.barplot(data=df, y=dep, x=\"Sex\", ax=axs[0]).set(title=\"Heart Disease Rate\")\n",
    "sns.countplot(data=df, x=\"Sex\", ax=axs[1]).set(title=\"Histogram\");"
   ]
  },
  {
   "cell_type": "markdown",
   "id": "799f26e0",
   "metadata": {
    "papermill": {
     "duration": 0.004566,
     "end_time": "2025-06-03T00:14:09.564052",
     "exception": false,
     "start_time": "2025-06-03T00:14:09.559486",
     "status": "completed"
    },
    "tags": []
   },
   "source": [
    "Here we can see that if we make a binary split just based on gender, we would be able to predict heart disease with much better accuracy."
   ]
  },
  {
   "cell_type": "code",
   "execution_count": 7,
   "id": "fe4e55d9",
   "metadata": {
    "execution": {
     "iopub.execute_input": "2025-06-03T00:14:09.574333Z",
     "iopub.status.busy": "2025-06-03T00:14:09.574000Z",
     "iopub.status.idle": "2025-06-03T00:14:09.778396Z",
     "shell.execute_reply": "2025-06-03T00:14:09.777662Z"
    },
    "papermill": {
     "duration": 0.210866,
     "end_time": "2025-06-03T00:14:09.779648",
     "exception": false,
     "start_time": "2025-06-03T00:14:09.568782",
     "status": "completed"
    },
    "tags": []
   },
   "outputs": [
    {
     "data": {
      "text/plain": [
       "0.6565217391304348"
      ]
     },
     "execution_count": 7,
     "metadata": {},
     "output_type": "execute_result"
    }
   ],
   "source": [
    "from numpy import random\n",
    "from sklearn.model_selection import train_test_split\n",
    "\n",
    "random.seed(42)\n",
    "trn_df,val_df = train_test_split(df, test_size=0.25)\n",
    "trn_df[cats] = trn_df[cats].apply(lambda x: x. cat.codes)\n",
    "val_df[cats] = val_df[cats].apply(lambda x: x.cat.codes)\n",
    "\n",
    "def xs_y(df):\n",
    "    xs = df[cats+conts].copy()\n",
    "    return xs,df[dep] if dep in df else None\n",
    "\n",
    "trn_xs,trn_y = xs_y(trn_df)\n",
    "val_xs,val_y = xs_y(val_df)\n",
    "\n",
    "preds = val_xs.Sex==0\n",
    "\n",
    "from sklearn.metrics import mean_absolute_error\n",
    "mean_absolute_error(val_y, preds)"
   ]
  },
  {
   "cell_type": "markdown",
   "id": "fb0b728e",
   "metadata": {
    "papermill": {
     "duration": 0.004803,
     "end_time": "2025-06-03T00:14:09.789612",
     "exception": false,
     "start_time": "2025-06-03T00:14:09.784809",
     "status": "completed"
    },
    "tags": []
   },
   "source": [
    "With this model, we achieve an mse of 0.657\n",
    "\n",
    "Now, let's analyze what a split would look like on a continuous column. For example, take Age:"
   ]
  },
  {
   "cell_type": "code",
   "execution_count": 8,
   "id": "9d3f8969",
   "metadata": {
    "execution": {
     "iopub.execute_input": "2025-06-03T00:14:09.800137Z",
     "iopub.status.busy": "2025-06-03T00:14:09.799851Z",
     "iopub.status.idle": "2025-06-03T00:14:10.126083Z",
     "shell.execute_reply": "2025-06-03T00:14:10.125285Z"
    },
    "papermill": {
     "duration": 0.333008,
     "end_time": "2025-06-03T00:14:10.127336",
     "exception": false,
     "start_time": "2025-06-03T00:14:09.794328",
     "status": "completed"
    },
    "tags": []
   },
   "outputs": [
    {
     "name": "stderr",
     "output_type": "stream",
     "text": [
      "/usr/local/lib/python3.11/dist-packages/seaborn/categorical.py:1794: FutureWarning: use_inf_as_na option is deprecated and will be removed in a future version. Convert inf values to NaN before operating instead.\n",
      "  with pd.option_context('mode.use_inf_as_na', True):\n",
      "/usr/local/lib/python3.11/dist-packages/seaborn/categorical.py:1794: FutureWarning: use_inf_as_na option is deprecated and will be removed in a future version. Convert inf values to NaN before operating instead.\n",
      "  with pd.option_context('mode.use_inf_as_na', True):\n",
      "/usr/local/lib/python3.11/dist-packages/seaborn/_oldcore.py:1119: FutureWarning: use_inf_as_na option is deprecated and will be removed in a future version. Convert inf values to NaN before operating instead.\n",
      "  with pd.option_context('mode.use_inf_as_na', True):\n"
     ]
    },
    {
     "data": {
      "image/png": "[encoded data removed]",
      "text/plain": [
       "<Figure size 1100x500 with 2 Axes>"
      ]
     },
     "metadata": {},
     "output_type": "display_data"
    }
   ],
   "source": [
    "df_fare = trn_df[trn_df.Age>0]\n",
    "fig,axs = plt.subplots(1,2, figsize=(11,5))\n",
    "sns.boxenplot(data=df_fare, x=dep, y=\"Age\", ax=axs[0])\n",
    "sns.kdeplot(data=df_fare, x=\"Age\", ax=axs[1]);"
   ]
  },
  {
   "cell_type": "markdown",
   "id": "742b4e4d",
   "metadata": {
    "papermill": {
     "duration": 0.005755,
     "end_time": "2025-06-03T00:14:10.140032",
     "exception": false,
     "start_time": "2025-06-03T00:14:10.134277",
     "status": "completed"
    },
    "tags": []
   },
   "source": [
    "This turns out even more accurate then 'sex' binary split, achieving an mse of 0.417."
   ]
  },
  {
   "cell_type": "code",
   "execution_count": 9,
   "id": "93c3cfd8",
   "metadata": {
    "execution": {
     "iopub.execute_input": "2025-06-03T00:14:10.151969Z",
     "iopub.status.busy": "2025-06-03T00:14:10.151735Z",
     "iopub.status.idle": "2025-06-03T00:14:10.157650Z",
     "shell.execute_reply": "2025-06-03T00:14:10.156967Z"
    },
    "papermill": {
     "duration": 0.01307,
     "end_time": "2025-06-03T00:14:10.158787",
     "exception": false,
     "start_time": "2025-06-03T00:14:10.145717",
     "status": "completed"
    },
    "tags": []
   },
   "outputs": [
    {
     "data": {
      "text/plain": [
       "0.41304347826086957"
      ]
     },
     "execution_count": 9,
     "metadata": {},
     "output_type": "execute_result"
    }
   ],
   "source": [
    "preds = val_xs.Age>54\n",
    "mean_absolute_error(val_y, preds)"
   ]
  },
  {
   "cell_type": "markdown",
   "id": "565d5e6e",
   "metadata": {
    "papermill": {
     "duration": 0.005348,
     "end_time": "2025-06-03T00:14:10.169662",
     "exception": false,
     "start_time": "2025-06-03T00:14:10.164314",
     "status": "completed"
    },
    "tags": []
   },
   "source": [
    "These functions score how good a binary split is by measuring the standard deviation of the dependent variable."
   ]
  },
  {
   "cell_type": "code",
   "execution_count": 10,
   "id": "89e03c31",
   "metadata": {
    "execution": {
     "iopub.execute_input": "2025-06-03T00:14:10.181341Z",
     "iopub.status.busy": "2025-06-03T00:14:10.181135Z",
     "iopub.status.idle": "2025-06-03T00:14:10.185035Z",
     "shell.execute_reply": "2025-06-03T00:14:10.184390Z"
    },
    "papermill": {
     "duration": 0.010972,
     "end_time": "2025-06-03T00:14:10.186030",
     "exception": false,
     "start_time": "2025-06-03T00:14:10.175058",
     "status": "completed"
    },
    "tags": []
   },
   "outputs": [],
   "source": [
    "def _side_score(side, y):\n",
    "    tot = side.sum()\n",
    "    if tot<=1: return 0\n",
    "    return y[side].std()*tot\n",
    "\n",
    "def score(col, y, split):\n",
    "    lhs = col<=split\n",
    "    return (_side_score(lhs,y) + _side_score(~lhs,y))/len(y)"
   ]
  },
  {
   "cell_type": "markdown",
   "id": "4993a606",
   "metadata": {
    "papermill": {
     "duration": 0.005369,
     "end_time": "2025-06-03T00:14:10.196870",
     "exception": false,
     "start_time": "2025-06-03T00:14:10.191501",
     "status": "completed"
    },
    "tags": []
   },
   "source": [
    "Here's the scores of the two previous splits:"
   ]
  },
  {
   "cell_type": "code",
   "execution_count": 11,
   "id": "a2b454a5",
   "metadata": {
    "execution": {
     "iopub.execute_input": "2025-06-03T00:14:10.208430Z",
     "iopub.status.busy": "2025-06-03T00:14:10.208209Z",
     "iopub.status.idle": "2025-06-03T00:14:10.214471Z",
     "shell.execute_reply": "2025-06-03T00:14:10.213821Z"
    },
    "papermill": {
     "duration": 0.01321,
     "end_time": "2025-06-03T00:14:10.215449",
     "exception": false,
     "start_time": "2025-06-03T00:14:10.202239",
     "status": "completed"
    },
    "tags": []
   },
   "outputs": [
    {
     "name": "stdout",
     "output_type": "stream",
     "text": [
      "0.47372116597911734\n",
      "0.4686772249455947\n"
     ]
    }
   ],
   "source": [
    "print(score(trn_xs[\"Sex\"], trn_y, 0.5))\n",
    "print(score(trn_xs[\"Cholesterol\"], trn_y, 0.5))"
   ]
  },
  {
   "cell_type": "code",
   "execution_count": 12,
   "id": "705ad140",
   "metadata": {
    "execution": {
     "iopub.execute_input": "2025-06-03T00:14:10.227032Z",
     "iopub.status.busy": "2025-06-03T00:14:10.226856Z",
     "iopub.status.idle": "2025-06-03T00:14:10.244803Z",
     "shell.execute_reply": "2025-06-03T00:14:10.244102Z"
    },
    "papermill": {
     "duration": 0.025165,
     "end_time": "2025-06-03T00:14:10.245974",
     "exception": false,
     "start_time": "2025-06-03T00:14:10.220809",
     "status": "completed"
    },
    "tags": []
   },
   "outputs": [
    {
     "data": {
      "application/vnd.jupyter.widget-view+json": {
       "model_id": "cf4b35820fe842d9aa1ae96f049ebc44",
       "version_major": 2,
       "version_minor": 0
      },
      "text/plain": [
       "interactive(children=(Dropdown(description='nm', options=('Age', 'RestingBP', 'Cholesterol', 'MaxHR', 'Oldpeak…"
      ]
     },
     "metadata": {},
     "output_type": "display_data"
    }
   ],
   "source": [
    "def iscore(nm, split):\n",
    "    col = trn_xs[nm]\n",
    "    return score(col, trn_y, split)\n",
    "\n",
    "from ipywidgets import interact\n",
    "interact(nm=conts, split=15.5)(iscore);"
   ]
  },
  {
   "cell_type": "code",
   "execution_count": 13,
   "id": "96626f70",
   "metadata": {
    "execution": {
     "iopub.execute_input": "2025-06-03T00:14:10.259480Z",
     "iopub.status.busy": "2025-06-03T00:14:10.258854Z",
     "iopub.status.idle": "2025-06-03T00:14:10.274179Z",
     "shell.execute_reply": "2025-06-03T00:14:10.273649Z"
    },
    "papermill": {
     "duration": 0.022759,
     "end_time": "2025-06-03T00:14:10.275409",
     "exception": false,
     "start_time": "2025-06-03T00:14:10.252650",
     "status": "completed"
    },
    "tags": []
   },
   "outputs": [
    {
     "data": {
      "application/vnd.jupyter.widget-view+json": {
       "model_id": "1ffe0826a9b64b7faabce48ff9f7bd88",
       "version_major": 2,
       "version_minor": 0
      },
      "text/plain": [
       "interactive(children=(Dropdown(description='nm', options=('Sex', 'ChestPainType', 'RestingECG', 'ExerciseAngin…"
      ]
     },
     "metadata": {},
     "output_type": "display_data"
    }
   ],
   "source": [
    "interact(nm=cats, split=2)(iscore);"
   ]
  },
  {
   "cell_type": "markdown",
   "id": "851362c1",
   "metadata": {
    "papermill": {
     "duration": 0.005996,
     "end_time": "2025-06-03T00:14:10.288248",
     "exception": false,
     "start_time": "2025-06-03T00:14:10.282252",
     "status": "completed"
    },
    "tags": []
   },
   "source": [
    "This function calculates the best split given any category"
   ]
  },
  {
   "cell_type": "code",
   "execution_count": 14,
   "id": "a566ba68",
   "metadata": {
    "execution": {
     "iopub.execute_input": "2025-06-03T00:14:10.301054Z",
     "iopub.status.busy": "2025-06-03T00:14:10.300573Z",
     "iopub.status.idle": "2025-06-03T00:14:10.304800Z",
     "shell.execute_reply": "2025-06-03T00:14:10.304116Z"
    },
    "papermill": {
     "duration": 0.011875,
     "end_time": "2025-06-03T00:14:10.305918",
     "exception": false,
     "start_time": "2025-06-03T00:14:10.294043",
     "status": "completed"
    },
    "tags": []
   },
   "outputs": [],
   "source": [
    "def min_col(df, nm):\n",
    "    col,y = df[nm],df[dep]\n",
    "    unq = col.dropna().unique()\n",
    "    scores = np.array([score(col, y, o) for o in unq if not np.isnan(o)])\n",
    "    idx = scores.argmin()\n",
    "    return unq[idx],scores[idx]"
   ]
  },
  {
   "cell_type": "markdown",
   "id": "cc203bde",
   "metadata": {
    "papermill": {
     "duration": 0.00557,
     "end_time": "2025-06-03T00:14:10.317201",
     "exception": false,
     "start_time": "2025-06-03T00:14:10.311631",
     "status": "completed"
    },
    "tags": []
   },
   "source": [
    "Using this function, we can find the best possible splits over all columns, along with the best columns to split. As shown below, by splitting ST_SLOPE at 1, we can make the most accurate model (at least with one split)"
   ]
  },
  {
   "cell_type": "code",
   "execution_count": 15,
   "id": "1cfb032d",
   "metadata": {
    "execution": {
     "iopub.execute_input": "2025-06-03T00:14:10.329430Z",
     "iopub.status.busy": "2025-06-03T00:14:10.329193Z",
     "iopub.status.idle": "2025-06-03T00:14:10.472595Z",
     "shell.execute_reply": "2025-06-03T00:14:10.471913Z"
    },
    "papermill": {
     "duration": 0.151009,
     "end_time": "2025-06-03T00:14:10.473852",
     "exception": false,
     "start_time": "2025-06-03T00:14:10.322843",
     "status": "completed"
    },
    "tags": []
   },
   "outputs": [
    {
     "data": {
      "text/plain": [
       "{'Sex': (0, 0.47372116597911734),\n",
       " 'ChestPainType': (0, 0.43456504663499457),\n",
       " 'RestingECG': (1, 0.49611925240801863),\n",
       " 'ExerciseAngina': (0, 0.42139665755253836),\n",
       " 'ST_Slope': (1, 0.38610323380868145),\n",
       " 'FastingBS': (0, 0.48095528818068733),\n",
       " 'Age': (54, 0.4735318820170138),\n",
       " 'RestingBP': (133, 0.4927881936826962),\n",
       " 'Cholesterol': (126, 0.46844587982335745),\n",
       " 'MaxHR': (132, 0.46267374100181347),\n",
       " 'Oldpeak': (0.7, 0.446537571226993)}"
      ]
     },
     "execution_count": 15,
     "metadata": {},
     "output_type": "execute_result"
    }
   ],
   "source": [
    "cols = cats+conts\n",
    "{o:min_col(trn_df, o) for o in cols}"
   ]
  },
  {
   "cell_type": "code",
   "execution_count": 16,
   "id": "12f5a4bb",
   "metadata": {
    "execution": {
     "iopub.execute_input": "2025-06-03T00:14:10.487560Z",
     "iopub.status.busy": "2025-06-03T00:14:10.487275Z",
     "iopub.status.idle": "2025-06-03T00:14:10.492899Z",
     "shell.execute_reply": "2025-06-03T00:14:10.492301Z"
    },
    "papermill": {
     "duration": 0.013887,
     "end_time": "2025-06-03T00:14:10.494036",
     "exception": false,
     "start_time": "2025-06-03T00:14:10.480149",
     "status": "completed"
    },
    "tags": []
   },
   "outputs": [
    {
     "data": {
      "text/plain": [
       "0.2"
      ]
     },
     "execution_count": 16,
     "metadata": {},
     "output_type": "execute_result"
    }
   ],
   "source": [
    "preds = val_xs.ST_Slope<=1.5\n",
    "mean_absolute_error(val_y, preds)"
   ]
  },
  {
   "cell_type": "markdown",
   "id": "615e3118",
   "metadata": {
    "papermill": {
     "duration": 0.006182,
     "end_time": "2025-06-03T00:14:10.506601",
     "exception": false,
     "start_time": "2025-06-03T00:14:10.500419",
     "status": "completed"
    },
    "tags": []
   },
   "source": [
    "In order to create the best decision tree, we'll implement gini, a function similar to the score() used earlier which measured impurity."
   ]
  },
  {
   "cell_type": "code",
   "execution_count": 17,
   "id": "5a3b2ac8",
   "metadata": {
    "execution": {
     "iopub.execute_input": "2025-06-03T00:14:10.519572Z",
     "iopub.status.busy": "2025-06-03T00:14:10.519343Z",
     "iopub.status.idle": "2025-06-03T00:14:10.523018Z",
     "shell.execute_reply": "2025-06-03T00:14:10.522304Z"
    },
    "papermill": {
     "duration": 0.011364,
     "end_time": "2025-06-03T00:14:10.524045",
     "exception": false,
     "start_time": "2025-06-03T00:14:10.512681",
     "status": "completed"
    },
    "tags": []
   },
   "outputs": [],
   "source": [
    "def gini(cond):\n",
    "    act = df.loc[cond, dep]\n",
    "    return 1 - act.mean()**2 - (1-act).mean()**2"
   ]
  },
  {
   "cell_type": "code",
   "execution_count": 18,
   "id": "b8c6421a",
   "metadata": {
    "execution": {
     "iopub.execute_input": "2025-06-03T00:14:10.536778Z",
     "iopub.status.busy": "2025-06-03T00:14:10.536531Z",
     "iopub.status.idle": "2025-06-03T00:14:10.777464Z",
     "shell.execute_reply": "2025-06-03T00:14:10.776913Z"
    },
    "papermill": {
     "duration": 0.248771,
     "end_time": "2025-06-03T00:14:10.778761",
     "exception": false,
     "start_time": "2025-06-03T00:14:10.529990",
     "status": "completed"
    },
    "tags": []
   },
   "outputs": [],
   "source": [
    "import graphviz\n",
    "from sklearn.tree import DecisionTreeClassifier, export_graphviz\n",
    "\n",
    "def draw_tree(t, df, size=10, ratio=0.6, precision=2, **kwargs):\n",
    "    s=export_graphviz(t, out_file=None, feature_names=df.columns, filled=True, rounded=True,\n",
    "                      special_characters=True, rotate=False, precision=precision, **kwargs)\n",
    "    return graphviz.Source(re.sub('Tree {', f'Tree {{ size={size}; ratio={ratio}', s))"
   ]
  },
  {
   "cell_type": "code",
   "execution_count": 19,
   "id": "dc135c1b",
   "metadata": {
    "execution": {
     "iopub.execute_input": "2025-06-03T00:14:10.792023Z",
     "iopub.status.busy": "2025-06-03T00:14:10.791794Z",
     "iopub.status.idle": "2025-06-03T00:14:10.901669Z",
     "shell.execute_reply": "2025-06-03T00:14:10.900909Z"
    },
    "papermill": {
     "duration": 0.117639,
     "end_time": "2025-06-03T00:14:10.902744",
     "exception": false,
     "start_time": "2025-06-03T00:14:10.785105",
     "status": "completed"
    },
    "tags": []
   },
   "outputs": [
    {
     "data": {
      "image/svg+xml": [
       "<?xml version=\"1.0\" encoding=\"UTF-8\" standalone=\"no\"?>\n",
       "<!DOCTYPE svg PUBLIC \"-//W3C//DTD SVG 1.1//EN\"\n",
       " \"http://www.w3.org/Graphics/SVG/1.1/DTD/svg11.dtd\">\n",
       "<!-- Generated by graphviz version 2.43.0 (0)\n",
       " -->\n",
       "<!-- Title: Tree Pages: 1 -->\n",
       "<svg width=\"864pt\" height=\"521pt\"\n",
       " viewBox=\"0.00 0.00 864.00 521.06\" xmlns=\"http://www.w3.org/2000/svg\" xmlns:xlink=\"http://www.w3.org/1999/xlink\">\n",
       "<g id=\"graph0\" class=\"graph\" transform=\"scale(0.83 0.83) rotate(0) translate(4 622)\">\n",
       "<title>Tree</title>\n",
       "<polygon fill=\"white\" stroke=\"transparent\" points=\"-4,4 -4,-622 1034,-622 1034,4 -4,4\"/>\n",
       "<!-- 0 -->\n",
       "<g id=\"node1\" class=\"node\">\n",
       "<title>0</title>\n",
       "<path fill=\"#ddeefb\" stroke=\"black\" d=\"M536.5,-615C536.5,-615 435.5,-615 435.5,-615 429.5,-615 423.5,-609 423.5,-603 423.5,-603 423.5,-559 423.5,-559 423.5,-553 429.5,-547 435.5,-547 435.5,-547 536.5,-547 536.5,-547 542.5,-547 548.5,-553 548.5,-559 548.5,-559 548.5,-603 548.5,-603 548.5,-609 542.5,-615 536.5,-615\"/>\n",
       "<text text-anchor=\"start\" x=\"439\" y=\"-599.8\" font-family=\"Helvetica,sans-Serif\" font-size=\"14.00\">ST_Slope ≤ 1.5</text>\n",
       "<text text-anchor=\"start\" x=\"458\" y=\"-584.8\" font-family=\"Helvetica,sans-Serif\" font-size=\"14.00\">gini = 0.5</text>\n",
       "<text text-anchor=\"start\" x=\"441\" y=\"-569.8\" font-family=\"Helvetica,sans-Serif\" font-size=\"14.00\">samples = 688</text>\n",
       "<text text-anchor=\"start\" x=\"431.5\" y=\"-554.8\" font-family=\"Helvetica,sans-Serif\" font-size=\"14.00\">value = [312, 376]</text>\n",
       "</g>\n",
       "<!-- 1 -->\n",
       "<g id=\"node2\" class=\"node\">\n",
       "<title>1</title>\n",
       "<path fill=\"#66b3eb\" stroke=\"black\" d=\"M422,-503C422,-503 304,-503 304,-503 298,-503 292,-497 292,-491 292,-491 292,-447 292,-447 292,-441 298,-435 304,-435 304,-435 422,-435 422,-435 428,-435 434,-441 434,-447 434,-447 434,-491 434,-491 434,-497 428,-503 422,-503\"/>\n",
       "<text text-anchor=\"start\" x=\"300\" y=\"-487.8\" font-family=\"Helvetica,sans-Serif\" font-size=\"14.00\">ChestPainType ≤ 0.5</text>\n",
       "<text text-anchor=\"start\" x=\"335\" y=\"-472.8\" font-family=\"Helvetica,sans-Serif\" font-size=\"14.00\">gini = 0.3</text>\n",
       "<text text-anchor=\"start\" x=\"318\" y=\"-457.8\" font-family=\"Helvetica,sans-Serif\" font-size=\"14.00\">samples = 399</text>\n",
       "<text text-anchor=\"start\" x=\"312.5\" y=\"-442.8\" font-family=\"Helvetica,sans-Serif\" font-size=\"14.00\">value = [74, 325]</text>\n",
       "</g>\n",
       "<!-- 0&#45;&gt;1 -->\n",
       "<g id=\"edge1\" class=\"edge\">\n",
       "<title>0&#45;&gt;1</title>\n",
       "<path fill=\"none\" stroke=\"black\" d=\"M449.1,-547C436.2,-535.46 421.58,-522.39 408.09,-510.33\"/>\n",
       "<polygon fill=\"black\" stroke=\"black\" points=\"410.09,-507.42 400.3,-503.36 405.42,-512.64 410.09,-507.42\"/>\n",
       "<text text-anchor=\"middle\" x=\"401.7\" y=\"-524.62\" font-family=\"Helvetica,sans-Serif\" font-size=\"14.00\">True</text>\n",
       "</g>\n",
       "<!-- 12 -->\n",
       "<g id=\"node13\" class=\"node\">\n",
       "<title>12</title>\n",
       "<path fill=\"#eb9c63\" stroke=\"black\" d=\"M690,-503C690,-503 572,-503 572,-503 566,-503 560,-497 560,-491 560,-491 560,-447 560,-447 560,-441 566,-435 572,-435 572,-435 690,-435 690,-435 696,-435 702,-441 702,-447 702,-447 702,-491 702,-491 702,-497 696,-503 690,-503\"/>\n",
       "<text text-anchor=\"start\" x=\"568\" y=\"-487.8\" font-family=\"Helvetica,sans-Serif\" font-size=\"14.00\">ChestPainType ≤ 0.5</text>\n",
       "<text text-anchor=\"start\" x=\"599\" y=\"-472.8\" font-family=\"Helvetica,sans-Serif\" font-size=\"14.00\">gini = 0.29</text>\n",
       "<text text-anchor=\"start\" x=\"586\" y=\"-457.8\" font-family=\"Helvetica,sans-Serif\" font-size=\"14.00\">samples = 289</text>\n",
       "<text text-anchor=\"start\" x=\"580.5\" y=\"-442.8\" font-family=\"Helvetica,sans-Serif\" font-size=\"14.00\">value = [238, 51]</text>\n",
       "</g>\n",
       "<!-- 0&#45;&gt;12 -->\n",
       "<g id=\"edge12\" class=\"edge\">\n",
       "<title>0&#45;&gt;12</title>\n",
       "<path fill=\"none\" stroke=\"black\" d=\"M529.5,-547C545.06,-535.19 562.75,-521.77 578.96,-509.48\"/>\n",
       "<polygon fill=\"black\" stroke=\"black\" points=\"581.42,-512 587.28,-503.17 577.19,-506.43 581.42,-512\"/>\n",
       "<text text-anchor=\"middle\" x=\"583.88\" y=\"-524.24\" font-family=\"Helvetica,sans-Serif\" font-size=\"14.00\">False</text>\n",
       "</g>\n",
       "<!-- 2 -->\n",
       "<g id=\"node3\" class=\"node\">\n",
       "<title>2</title>\n",
       "<path fill=\"#4ea7e8\" stroke=\"black\" d=\"M234,-391C234,-391 124,-391 124,-391 118,-391 112,-385 112,-379 112,-379 112,-335 112,-335 112,-329 118,-323 124,-323 124,-323 234,-323 234,-323 240,-323 246,-329 246,-335 246,-335 246,-379 246,-379 246,-385 240,-391 234,-391\"/>\n",
       "<text text-anchor=\"start\" x=\"120\" y=\"-375.8\" font-family=\"Helvetica,sans-Serif\" font-size=\"14.00\">Cholesterol ≤ 144.0</text>\n",
       "<text text-anchor=\"start\" x=\"147\" y=\"-360.8\" font-family=\"Helvetica,sans-Serif\" font-size=\"14.00\">gini = 0.17</text>\n",
       "<text text-anchor=\"start\" x=\"134\" y=\"-345.8\" font-family=\"Helvetica,sans-Serif\" font-size=\"14.00\">samples = 277</text>\n",
       "<text text-anchor=\"start\" x=\"128.5\" y=\"-330.8\" font-family=\"Helvetica,sans-Serif\" font-size=\"14.00\">value = [26, 251]</text>\n",
       "</g>\n",
       "<!-- 1&#45;&gt;2 -->\n",
       "<g id=\"edge2\" class=\"edge\">\n",
       "<title>1&#45;&gt;2</title>\n",
       "<path fill=\"none\" stroke=\"black\" d=\"M307.79,-435C287.51,-422.87 264.37,-409.03 243.35,-396.47\"/>\n",
       "<polygon fill=\"black\" stroke=\"black\" points=\"244.86,-393.3 234.48,-391.17 241.27,-399.31 244.86,-393.3\"/>\n",
       "</g>\n",
       "<!-- 9 -->\n",
       "<g id=\"node10\" class=\"node\">\n",
       "<title>9</title>\n",
       "<path fill=\"#b9ddf6\" stroke=\"black\" d=\"M406.5,-391C406.5,-391 319.5,-391 319.5,-391 313.5,-391 307.5,-385 307.5,-379 307.5,-379 307.5,-335 307.5,-335 307.5,-329 313.5,-323 319.5,-323 319.5,-323 406.5,-323 406.5,-323 412.5,-323 418.5,-329 418.5,-335 418.5,-335 418.5,-379 418.5,-379 418.5,-385 412.5,-391 406.5,-391\"/>\n",
       "<text text-anchor=\"start\" x=\"315.5\" y=\"-375.8\" font-family=\"Helvetica,sans-Serif\" font-size=\"14.00\">MaxHR ≤ 136.5</text>\n",
       "<text text-anchor=\"start\" x=\"331\" y=\"-360.8\" font-family=\"Helvetica,sans-Serif\" font-size=\"14.00\">gini = 0.48</text>\n",
       "<text text-anchor=\"start\" x=\"318\" y=\"-345.8\" font-family=\"Helvetica,sans-Serif\" font-size=\"14.00\">samples = 122</text>\n",
       "<text text-anchor=\"start\" x=\"316\" y=\"-330.8\" font-family=\"Helvetica,sans-Serif\" font-size=\"14.00\">value = [48, 74]</text>\n",
       "</g>\n",
       "<!-- 1&#45;&gt;9 -->\n",
       "<g id=\"edge9\" class=\"edge\">\n",
       "<title>1&#45;&gt;9</title>\n",
       "<path fill=\"none\" stroke=\"black\" d=\"M363,-435C363,-424.43 363,-412.58 363,-401.39\"/>\n",
       "<polygon fill=\"black\" stroke=\"black\" points=\"366.5,-401.36 363,-391.36 359.5,-401.36 366.5,-401.36\"/>\n",
       "</g>\n",
       "<!-- 3 -->\n",
       "<g id=\"node4\" class=\"node\">\n",
       "<title>3</title>\n",
       "<path fill=\"#3c9ee5\" stroke=\"black\" d=\"M90,-271.5C90,-271.5 12,-271.5 12,-271.5 6,-271.5 0,-265.5 0,-259.5 0,-259.5 0,-230.5 0,-230.5 0,-224.5 6,-218.5 12,-218.5 12,-218.5 90,-218.5 90,-218.5 96,-218.5 102,-224.5 102,-230.5 102,-230.5 102,-259.5 102,-259.5 102,-265.5 96,-271.5 90,-271.5\"/>\n",
       "<text text-anchor=\"start\" x=\"19\" y=\"-256.3\" font-family=\"Helvetica,sans-Serif\" font-size=\"14.00\">gini = 0.03</text>\n",
       "<text text-anchor=\"start\" x=\"10\" y=\"-241.3\" font-family=\"Helvetica,sans-Serif\" font-size=\"14.00\">samples = 74</text>\n",
       "<text text-anchor=\"start\" x=\"8\" y=\"-226.3\" font-family=\"Helvetica,sans-Serif\" font-size=\"14.00\">value = [1, 73]</text>\n",
       "</g>\n",
       "<!-- 2&#45;&gt;3 -->\n",
       "<g id=\"edge3\" class=\"edge\">\n",
       "<title>2&#45;&gt;3</title>\n",
       "<path fill=\"none\" stroke=\"black\" d=\"M140.6,-323C124.14,-308.86 104.99,-292.39 88.62,-278.33\"/>\n",
       "<polygon fill=\"black\" stroke=\"black\" points=\"90.7,-275.5 80.83,-271.64 86.14,-280.81 90.7,-275.5\"/>\n",
       "</g>\n",
       "<!-- 4 -->\n",
       "<g id=\"node5\" class=\"node\">\n",
       "<title>4</title>\n",
       "<path fill=\"#55abe9\" stroke=\"black\" d=\"M225.5,-279C225.5,-279 132.5,-279 132.5,-279 126.5,-279 120.5,-273 120.5,-267 120.5,-267 120.5,-223 120.5,-223 120.5,-217 126.5,-211 132.5,-211 132.5,-211 225.5,-211 225.5,-211 231.5,-211 237.5,-217 237.5,-223 237.5,-223 237.5,-267 237.5,-267 237.5,-273 231.5,-279 225.5,-279\"/>\n",
       "<text text-anchor=\"start\" x=\"132.5\" y=\"-263.8\" font-family=\"Helvetica,sans-Serif\" font-size=\"14.00\">Oldpeak ≤ 1.05</text>\n",
       "<text text-anchor=\"start\" x=\"147\" y=\"-248.8\" font-family=\"Helvetica,sans-Serif\" font-size=\"14.00\">gini = 0.22</text>\n",
       "<text text-anchor=\"start\" x=\"134\" y=\"-233.8\" font-family=\"Helvetica,sans-Serif\" font-size=\"14.00\">samples = 203</text>\n",
       "<text text-anchor=\"start\" x=\"128.5\" y=\"-218.8\" font-family=\"Helvetica,sans-Serif\" font-size=\"14.00\">value = [25, 178]</text>\n",
       "</g>\n",
       "<!-- 2&#45;&gt;4 -->\n",
       "<g id=\"edge4\" class=\"edge\">\n",
       "<title>2&#45;&gt;4</title>\n",
       "<path fill=\"none\" stroke=\"black\" d=\"M179,-323C179,-312.43 179,-300.58 179,-289.39\"/>\n",
       "<polygon fill=\"black\" stroke=\"black\" points=\"182.5,-289.36 179,-279.36 175.5,-289.36 182.5,-289.36\"/>\n",
       "</g>\n",
       "<!-- 5 -->\n",
       "<g id=\"node6\" class=\"node\">\n",
       "<title>5</title>\n",
       "<path fill=\"#79bced\" stroke=\"black\" d=\"M153,-159.5C153,-159.5 67,-159.5 67,-159.5 61,-159.5 55,-153.5 55,-147.5 55,-147.5 55,-118.5 55,-118.5 55,-112.5 61,-106.5 67,-106.5 67,-106.5 153,-106.5 153,-106.5 159,-106.5 165,-112.5 165,-118.5 165,-118.5 165,-147.5 165,-147.5 165,-153.5 159,-159.5 153,-159.5\"/>\n",
       "<text text-anchor=\"start\" x=\"78\" y=\"-144.3\" font-family=\"Helvetica,sans-Serif\" font-size=\"14.00\">gini = 0.37</text>\n",
       "<text text-anchor=\"start\" x=\"69\" y=\"-129.3\" font-family=\"Helvetica,sans-Serif\" font-size=\"14.00\">samples = 70</text>\n",
       "<text text-anchor=\"start\" x=\"63\" y=\"-114.3\" font-family=\"Helvetica,sans-Serif\" font-size=\"14.00\">value = [17, 53]</text>\n",
       "</g>\n",
       "<!-- 4&#45;&gt;5 -->\n",
       "<g id=\"edge5\" class=\"edge\">\n",
       "<title>4&#45;&gt;5</title>\n",
       "<path fill=\"none\" stroke=\"black\" d=\"M158.3,-211C149.83,-197.5 140.04,-181.89 131.49,-168.26\"/>\n",
       "<polygon fill=\"black\" stroke=\"black\" points=\"134.36,-166.25 126.08,-159.64 128.43,-169.97 134.36,-166.25\"/>\n",
       "</g>\n",
       "<!-- 6 -->\n",
       "<g id=\"node7\" class=\"node\">\n",
       "<title>6</title>\n",
       "<path fill=\"#46a3e7\" stroke=\"black\" d=\"M300.5,-167C300.5,-167 195.5,-167 195.5,-167 189.5,-167 183.5,-161 183.5,-155 183.5,-155 183.5,-111 183.5,-111 183.5,-105 189.5,-99 195.5,-99 195.5,-99 300.5,-99 300.5,-99 306.5,-99 312.5,-105 312.5,-111 312.5,-111 312.5,-155 312.5,-155 312.5,-161 306.5,-167 300.5,-167\"/>\n",
       "<text text-anchor=\"start\" x=\"191.5\" y=\"-151.8\" font-family=\"Helvetica,sans-Serif\" font-size=\"14.00\">RestingBP ≤ 134.5</text>\n",
       "<text text-anchor=\"start\" x=\"216\" y=\"-136.8\" font-family=\"Helvetica,sans-Serif\" font-size=\"14.00\">gini = 0.11</text>\n",
       "<text text-anchor=\"start\" x=\"203\" y=\"-121.8\" font-family=\"Helvetica,sans-Serif\" font-size=\"14.00\">samples = 133</text>\n",
       "<text text-anchor=\"start\" x=\"201\" y=\"-106.8\" font-family=\"Helvetica,sans-Serif\" font-size=\"14.00\">value = [8, 125]</text>\n",
       "</g>\n",
       "<!-- 4&#45;&gt;6 -->\n",
       "<g id=\"edge6\" class=\"edge\">\n",
       "<title>4&#45;&gt;6</title>\n",
       "<path fill=\"none\" stroke=\"black\" d=\"M199.7,-211C206.6,-200 214.37,-187.61 221.64,-176.02\"/>\n",
       "<polygon fill=\"black\" stroke=\"black\" points=\"224.72,-177.69 227.07,-167.36 218.8,-173.97 224.72,-177.69\"/>\n",
       "</g>\n",
       "<!-- 7 -->\n",
       "<g id=\"node8\" class=\"node\">\n",
       "<title>7</title>\n",
       "<path fill=\"#4fa8e8\" stroke=\"black\" d=\"M227,-55.5C227,-55.5 149,-55.5 149,-55.5 143,-55.5 137,-49.5 137,-43.5 137,-43.5 137,-14.5 137,-14.5 137,-8.5 143,-2.5 149,-2.5 149,-2.5 227,-2.5 227,-2.5 233,-2.5 239,-8.5 239,-14.5 239,-14.5 239,-43.5 239,-43.5 239,-49.5 233,-55.5 227,-55.5\"/>\n",
       "<text text-anchor=\"start\" x=\"156\" y=\"-40.3\" font-family=\"Helvetica,sans-Serif\" font-size=\"14.00\">gini = 0.18</text>\n",
       "<text text-anchor=\"start\" x=\"147\" y=\"-25.3\" font-family=\"Helvetica,sans-Serif\" font-size=\"14.00\">samples = 51</text>\n",
       "<text text-anchor=\"start\" x=\"145\" y=\"-10.3\" font-family=\"Helvetica,sans-Serif\" font-size=\"14.00\">value = [5, 46]</text>\n",
       "</g>\n",
       "<!-- 6&#45;&gt;7 -->\n",
       "<g id=\"edge7\" class=\"edge\">\n",
       "<title>6&#45;&gt;7</title>\n",
       "<path fill=\"none\" stroke=\"black\" d=\"M228.52,-98.88C221.99,-87.78 214.69,-75.37 208.11,-64.18\"/>\n",
       "<polygon fill=\"black\" stroke=\"black\" points=\"211.1,-62.36 203.01,-55.52 205.07,-65.91 211.1,-62.36\"/>\n",
       "</g>\n",
       "<!-- 8 -->\n",
       "<g id=\"node9\" class=\"node\">\n",
       "<title>8</title>\n",
       "<path fill=\"#41a1e6\" stroke=\"black\" d=\"M347,-55.5C347,-55.5 269,-55.5 269,-55.5 263,-55.5 257,-49.5 257,-43.5 257,-43.5 257,-14.5 257,-14.5 257,-8.5 263,-2.5 269,-2.5 269,-2.5 347,-2.5 347,-2.5 353,-2.5 359,-8.5 359,-14.5 359,-14.5 359,-43.5 359,-43.5 359,-49.5 353,-55.5 347,-55.5\"/>\n",
       "<text text-anchor=\"start\" x=\"276\" y=\"-40.3\" font-family=\"Helvetica,sans-Serif\" font-size=\"14.00\">gini = 0.07</text>\n",
       "<text text-anchor=\"start\" x=\"267\" y=\"-25.3\" font-family=\"Helvetica,sans-Serif\" font-size=\"14.00\">samples = 82</text>\n",
       "<text text-anchor=\"start\" x=\"265\" y=\"-10.3\" font-family=\"Helvetica,sans-Serif\" font-size=\"14.00\">value = [3, 79]</text>\n",
       "</g>\n",
       "<!-- 6&#45;&gt;8 -->\n",
       "<g id=\"edge8\" class=\"edge\">\n",
       "<title>6&#45;&gt;8</title>\n",
       "<path fill=\"none\" stroke=\"black\" d=\"M267.48,-98.88C274.01,-87.78 281.31,-75.37 287.89,-64.18\"/>\n",
       "<polygon fill=\"black\" stroke=\"black\" points=\"290.93,-65.91 292.99,-55.52 284.9,-62.36 290.93,-65.91\"/>\n",
       "</g>\n",
       "<!-- 10 -->\n",
       "<g id=\"node11\" class=\"node\">\n",
       "<title>10</title>\n",
       "<path fill=\"#6cb6ec\" stroke=\"black\" d=\"M354,-271.5C354,-271.5 268,-271.5 268,-271.5 262,-271.5 256,-265.5 256,-259.5 256,-259.5 256,-230.5 256,-230.5 256,-224.5 262,-218.5 268,-218.5 268,-218.5 354,-218.5 354,-218.5 360,-218.5 366,-224.5 366,-230.5 366,-230.5 366,-259.5 366,-259.5 366,-265.5 360,-271.5 354,-271.5\"/>\n",
       "<text text-anchor=\"start\" x=\"279\" y=\"-256.3\" font-family=\"Helvetica,sans-Serif\" font-size=\"14.00\">gini = 0.32</text>\n",
       "<text text-anchor=\"start\" x=\"270\" y=\"-241.3\" font-family=\"Helvetica,sans-Serif\" font-size=\"14.00\">samples = 54</text>\n",
       "<text text-anchor=\"start\" x=\"264\" y=\"-226.3\" font-family=\"Helvetica,sans-Serif\" font-size=\"14.00\">value = [11, 43]</text>\n",
       "</g>\n",
       "<!-- 9&#45;&gt;10 -->\n",
       "<g id=\"edge10\" class=\"edge\">\n",
       "<title>9&#45;&gt;10</title>\n",
       "<path fill=\"none\" stroke=\"black\" d=\"M347.4,-323C341.14,-309.76 333.92,-294.48 327.57,-281.04\"/>\n",
       "<polygon fill=\"black\" stroke=\"black\" points=\"330.56,-279.18 323.12,-271.64 324.23,-282.17 330.56,-279.18\"/>\n",
       "</g>\n",
       "<!-- 11 -->\n",
       "<g id=\"node12\" class=\"node\">\n",
       "<title>11</title>\n",
       "<path fill=\"#fbebdf\" stroke=\"black\" d=\"M482,-271.5C482,-271.5 396,-271.5 396,-271.5 390,-271.5 384,-265.5 384,-259.5 384,-259.5 384,-230.5 384,-230.5 384,-224.5 390,-218.5 396,-218.5 396,-218.5 482,-218.5 482,-218.5 488,-218.5 494,-224.5 494,-230.5 494,-230.5 494,-259.5 494,-259.5 494,-265.5 488,-271.5 482,-271.5\"/>\n",
       "<text text-anchor=\"start\" x=\"411\" y=\"-256.3\" font-family=\"Helvetica,sans-Serif\" font-size=\"14.00\">gini = 0.5</text>\n",
       "<text text-anchor=\"start\" x=\"398\" y=\"-241.3\" font-family=\"Helvetica,sans-Serif\" font-size=\"14.00\">samples = 68</text>\n",
       "<text text-anchor=\"start\" x=\"392\" y=\"-226.3\" font-family=\"Helvetica,sans-Serif\" font-size=\"14.00\">value = [37, 31]</text>\n",
       "</g>\n",
       "<!-- 9&#45;&gt;11 -->\n",
       "<g id=\"edge11\" class=\"edge\">\n",
       "<title>9&#45;&gt;11</title>\n",
       "<path fill=\"none\" stroke=\"black\" d=\"M385.8,-323C395.22,-309.37 406.12,-293.59 415.6,-279.87\"/>\n",
       "<polygon fill=\"black\" stroke=\"black\" points=\"418.48,-281.86 421.29,-271.64 412.72,-277.88 418.48,-281.86\"/>\n",
       "</g>\n",
       "<!-- 13 -->\n",
       "<g id=\"node14\" class=\"node\">\n",
       "<title>13</title>\n",
       "<path fill=\"#f5d0b6\" stroke=\"black\" d=\"M674,-391C674,-391 588,-391 588,-391 582,-391 576,-385 576,-379 576,-379 576,-335 576,-335 576,-329 582,-323 588,-323 588,-323 674,-323 674,-323 680,-323 686,-329 686,-335 686,-335 686,-379 686,-379 686,-385 680,-391 674,-391\"/>\n",
       "<text text-anchor=\"start\" x=\"598\" y=\"-375.8\" font-family=\"Helvetica,sans-Serif\" font-size=\"14.00\">Age ≤ 52.5</text>\n",
       "<text text-anchor=\"start\" x=\"599\" y=\"-360.8\" font-family=\"Helvetica,sans-Serif\" font-size=\"14.00\">gini = 0.47</text>\n",
       "<text text-anchor=\"start\" x=\"586\" y=\"-345.8\" font-family=\"Helvetica,sans-Serif\" font-size=\"14.00\">samples = 101</text>\n",
       "<text text-anchor=\"start\" x=\"584\" y=\"-330.8\" font-family=\"Helvetica,sans-Serif\" font-size=\"14.00\">value = [62, 39]</text>\n",
       "</g>\n",
       "<!-- 12&#45;&gt;13 -->\n",
       "<g id=\"edge13\" class=\"edge\">\n",
       "<title>12&#45;&gt;13</title>\n",
       "<path fill=\"none\" stroke=\"black\" d=\"M631,-435C631,-424.43 631,-412.58 631,-401.39\"/>\n",
       "<polygon fill=\"black\" stroke=\"black\" points=\"634.5,-401.36 631,-391.36 627.5,-401.36 634.5,-401.36\"/>\n",
       "</g>\n",
       "<!-- 16 -->\n",
       "<g id=\"node17\" class=\"node\">\n",
       "<title>16</title>\n",
       "<path fill=\"#e78a46\" stroke=\"black\" d=\"M881.5,-391C881.5,-391 788.5,-391 788.5,-391 782.5,-391 776.5,-385 776.5,-379 776.5,-379 776.5,-335 776.5,-335 776.5,-329 782.5,-323 788.5,-323 788.5,-323 881.5,-323 881.5,-323 887.5,-323 893.5,-329 893.5,-335 893.5,-335 893.5,-379 893.5,-379 893.5,-385 887.5,-391 881.5,-391\"/>\n",
       "<text text-anchor=\"start\" x=\"802\" y=\"-375.8\" font-family=\"Helvetica,sans-Serif\" font-size=\"14.00\">Age ≤ 54.5</text>\n",
       "<text text-anchor=\"start\" x=\"803\" y=\"-360.8\" font-family=\"Helvetica,sans-Serif\" font-size=\"14.00\">gini = 0.12</text>\n",
       "<text text-anchor=\"start\" x=\"790\" y=\"-345.8\" font-family=\"Helvetica,sans-Serif\" font-size=\"14.00\">samples = 188</text>\n",
       "<text text-anchor=\"start\" x=\"784.5\" y=\"-330.8\" font-family=\"Helvetica,sans-Serif\" font-size=\"14.00\">value = [176, 12]</text>\n",
       "</g>\n",
       "<!-- 12&#45;&gt;16 -->\n",
       "<g id=\"edge16\" class=\"edge\">\n",
       "<title>12&#45;&gt;16</title>\n",
       "<path fill=\"none\" stroke=\"black\" d=\"M692.21,-435C715.93,-422.2 743.19,-407.51 767.48,-394.41\"/>\n",
       "<polygon fill=\"black\" stroke=\"black\" points=\"769.15,-397.49 776.29,-389.66 765.82,-391.32 769.15,-397.49\"/>\n",
       "</g>\n",
       "<!-- 14 -->\n",
       "<g id=\"node15\" class=\"node\">\n",
       "<title>14</title>\n",
       "<path fill=\"#eead7f\" stroke=\"black\" d=\"M610,-271.5C610,-271.5 524,-271.5 524,-271.5 518,-271.5 512,-265.5 512,-259.5 512,-259.5 512,-230.5 512,-230.5 512,-224.5 518,-218.5 524,-218.5 524,-218.5 610,-218.5 610,-218.5 616,-218.5 622,-224.5 622,-230.5 622,-230.5 622,-259.5 622,-259.5 622,-265.5 616,-271.5 610,-271.5\"/>\n",
       "<text text-anchor=\"start\" x=\"535\" y=\"-256.3\" font-family=\"Helvetica,sans-Serif\" font-size=\"14.00\">gini = 0.38</text>\n",
       "<text text-anchor=\"start\" x=\"526\" y=\"-241.3\" font-family=\"Helvetica,sans-Serif\" font-size=\"14.00\">samples = 50</text>\n",
       "<text text-anchor=\"start\" x=\"520\" y=\"-226.3\" font-family=\"Helvetica,sans-Serif\" font-size=\"14.00\">value = [37, 13]</text>\n",
       "</g>\n",
       "<!-- 13&#45;&gt;14 -->\n",
       "<g id=\"edge14\" class=\"edge\">\n",
       "<title>13&#45;&gt;14</title>\n",
       "<path fill=\"none\" stroke=\"black\" d=\"M611.8,-323C604.02,-309.63 595.03,-294.18 587.16,-280.65\"/>\n",
       "<polygon fill=\"black\" stroke=\"black\" points=\"589.97,-278.52 581.92,-271.64 583.92,-282.04 589.97,-278.52\"/>\n",
       "</g>\n",
       "<!-- 15 -->\n",
       "<g id=\"node16\" class=\"node\">\n",
       "<title>15</title>\n",
       "<path fill=\"#f7fbfe\" stroke=\"black\" d=\"M738,-271.5C738,-271.5 652,-271.5 652,-271.5 646,-271.5 640,-265.5 640,-259.5 640,-259.5 640,-230.5 640,-230.5 640,-224.5 646,-218.5 652,-218.5 652,-218.5 738,-218.5 738,-218.5 744,-218.5 750,-224.5 750,-230.5 750,-230.5 750,-259.5 750,-259.5 750,-265.5 744,-271.5 738,-271.5\"/>\n",
       "<text text-anchor=\"start\" x=\"667\" y=\"-256.3\" font-family=\"Helvetica,sans-Serif\" font-size=\"14.00\">gini = 0.5</text>\n",
       "<text text-anchor=\"start\" x=\"654\" y=\"-241.3\" font-family=\"Helvetica,sans-Serif\" font-size=\"14.00\">samples = 51</text>\n",
       "<text text-anchor=\"start\" x=\"648\" y=\"-226.3\" font-family=\"Helvetica,sans-Serif\" font-size=\"14.00\">value = [25, 26]</text>\n",
       "</g>\n",
       "<!-- 13&#45;&gt;15 -->\n",
       "<g id=\"edge15\" class=\"edge\">\n",
       "<title>13&#45;&gt;15</title>\n",
       "<path fill=\"none\" stroke=\"black\" d=\"M650.2,-323C657.98,-309.63 666.97,-294.18 674.84,-280.65\"/>\n",
       "<polygon fill=\"black\" stroke=\"black\" points=\"678.08,-282.04 680.08,-271.64 672.03,-278.52 678.08,-282.04\"/>\n",
       "</g>\n",
       "<!-- 17 -->\n",
       "<g id=\"node18\" class=\"node\">\n",
       "<title>17</title>\n",
       "<path fill=\"#e5833c\" stroke=\"black\" d=\"M890,-279C890,-279 780,-279 780,-279 774,-279 768,-273 768,-267 768,-267 768,-223 768,-223 768,-217 774,-211 780,-211 780,-211 890,-211 890,-211 896,-211 902,-217 902,-223 902,-223 902,-267 902,-267 902,-273 896,-279 890,-279\"/>\n",
       "<text text-anchor=\"start\" x=\"776\" y=\"-263.8\" font-family=\"Helvetica,sans-Serif\" font-size=\"14.00\">Cholesterol ≤ 209.5</text>\n",
       "<text text-anchor=\"start\" x=\"803\" y=\"-248.8\" font-family=\"Helvetica,sans-Serif\" font-size=\"14.00\">gini = 0.03</text>\n",
       "<text text-anchor=\"start\" x=\"790\" y=\"-233.8\" font-family=\"Helvetica,sans-Serif\" font-size=\"14.00\">samples = 136</text>\n",
       "<text text-anchor=\"start\" x=\"788\" y=\"-218.8\" font-family=\"Helvetica,sans-Serif\" font-size=\"14.00\">value = [134, 2]</text>\n",
       "</g>\n",
       "<!-- 16&#45;&gt;17 -->\n",
       "<g id=\"edge17\" class=\"edge\">\n",
       "<title>16&#45;&gt;17</title>\n",
       "<path fill=\"none\" stroke=\"black\" d=\"M835,-323C835,-312.43 835,-300.58 835,-289.39\"/>\n",
       "<polygon fill=\"black\" stroke=\"black\" points=\"838.5,-289.36 835,-279.36 831.5,-289.36 838.5,-289.36\"/>\n",
       "</g>\n",
       "<!-- 20 -->\n",
       "<g id=\"node21\" class=\"node\">\n",
       "<title>20</title>\n",
       "<path fill=\"#eb9f68\" stroke=\"black\" d=\"M1018,-271.5C1018,-271.5 932,-271.5 932,-271.5 926,-271.5 920,-265.5 920,-259.5 920,-259.5 920,-230.5 920,-230.5 920,-224.5 926,-218.5 932,-218.5 932,-218.5 1018,-218.5 1018,-218.5 1024,-218.5 1030,-224.5 1030,-230.5 1030,-230.5 1030,-259.5 1030,-259.5 1030,-265.5 1024,-271.5 1018,-271.5\"/>\n",
       "<text text-anchor=\"start\" x=\"943\" y=\"-256.3\" font-family=\"Helvetica,sans-Serif\" font-size=\"14.00\">gini = 0.31</text>\n",
       "<text text-anchor=\"start\" x=\"934\" y=\"-241.3\" font-family=\"Helvetica,sans-Serif\" font-size=\"14.00\">samples = 52</text>\n",
       "<text text-anchor=\"start\" x=\"928\" y=\"-226.3\" font-family=\"Helvetica,sans-Serif\" font-size=\"14.00\">value = [42, 10]</text>\n",
       "</g>\n",
       "<!-- 16&#45;&gt;20 -->\n",
       "<g id=\"edge20\" class=\"edge\">\n",
       "<title>16&#45;&gt;20</title>\n",
       "<path fill=\"none\" stroke=\"black\" d=\"M877,-323C895.16,-308.73 916.33,-292.09 934.34,-277.95\"/>\n",
       "<polygon fill=\"black\" stroke=\"black\" points=\"936.67,-280.57 942.37,-271.64 932.34,-275.06 936.67,-280.57\"/>\n",
       "</g>\n",
       "<!-- 18 -->\n",
       "<g id=\"node19\" class=\"node\">\n",
       "<title>18</title>\n",
       "<path fill=\"#e68641\" stroke=\"black\" d=\"M814,-159.5C814,-159.5 736,-159.5 736,-159.5 730,-159.5 724,-153.5 724,-147.5 724,-147.5 724,-118.5 724,-118.5 724,-112.5 730,-106.5 736,-106.5 736,-106.5 814,-106.5 814,-106.5 820,-106.5 826,-112.5 826,-118.5 826,-118.5 826,-147.5 826,-147.5 826,-153.5 820,-159.5 814,-159.5\"/>\n",
       "<text text-anchor=\"start\" x=\"743\" y=\"-144.3\" font-family=\"Helvetica,sans-Serif\" font-size=\"14.00\">gini = 0.08</text>\n",
       "<text text-anchor=\"start\" x=\"734\" y=\"-129.3\" font-family=\"Helvetica,sans-Serif\" font-size=\"14.00\">samples = 50</text>\n",
       "<text text-anchor=\"start\" x=\"732\" y=\"-114.3\" font-family=\"Helvetica,sans-Serif\" font-size=\"14.00\">value = [48, 2]</text>\n",
       "</g>\n",
       "<!-- 17&#45;&gt;18 -->\n",
       "<g id=\"edge18\" class=\"edge\">\n",
       "<title>17&#45;&gt;18</title>\n",
       "<path fill=\"none\" stroke=\"black\" d=\"M817,-211C809.71,-197.63 801.28,-182.18 793.9,-168.65\"/>\n",
       "<polygon fill=\"black\" stroke=\"black\" points=\"796.85,-166.74 788.98,-159.64 790.7,-170.09 796.85,-166.74\"/>\n",
       "</g>\n",
       "<!-- 19 -->\n",
       "<g id=\"node20\" class=\"node\">\n",
       "<title>19</title>\n",
       "<path fill=\"#e58139\" stroke=\"black\" d=\"M934,-159.5C934,-159.5 856,-159.5 856,-159.5 850,-159.5 844,-153.5 844,-147.5 844,-147.5 844,-118.5 844,-118.5 844,-112.5 850,-106.5 856,-106.5 856,-106.5 934,-106.5 934,-106.5 940,-106.5 946,-112.5 946,-118.5 946,-118.5 946,-147.5 946,-147.5 946,-153.5 940,-159.5 934,-159.5\"/>\n",
       "<text text-anchor=\"start\" x=\"867\" y=\"-144.3\" font-family=\"Helvetica,sans-Serif\" font-size=\"14.00\">gini = 0.0</text>\n",
       "<text text-anchor=\"start\" x=\"854\" y=\"-129.3\" font-family=\"Helvetica,sans-Serif\" font-size=\"14.00\">samples = 86</text>\n",
       "<text text-anchor=\"start\" x=\"852\" y=\"-114.3\" font-family=\"Helvetica,sans-Serif\" font-size=\"14.00\">value = [86, 0]</text>\n",
       "</g>\n",
       "<!-- 17&#45;&gt;19 -->\n",
       "<g id=\"edge19\" class=\"edge\">\n",
       "<title>17&#45;&gt;19</title>\n",
       "<path fill=\"none\" stroke=\"black\" d=\"M853,-211C860.29,-197.63 868.72,-182.18 876.1,-168.65\"/>\n",
       "<polygon fill=\"black\" stroke=\"black\" points=\"879.3,-170.09 881.02,-159.64 873.15,-166.74 879.3,-170.09\"/>\n",
       "</g>\n",
       "</g>\n",
       "</svg>\n"
      ],
      "text/plain": [
       "<graphviz.sources.Source at 0x7b32c4730e90>"
      ]
     },
     "execution_count": 19,
     "metadata": {},
     "output_type": "execute_result"
    }
   ],
   "source": [
    "m = DecisionTreeClassifier(min_samples_leaf=50)\n",
    "m.fit(trn_xs, trn_y)\n",
    "draw_tree(m, trn_xs, size=12)"
   ]
  },
  {
   "cell_type": "markdown",
   "id": "243c1e56",
   "metadata": {
    "papermill": {
     "duration": 0.006357,
     "end_time": "2025-06-03T00:14:10.916394",
     "exception": false,
     "start_time": "2025-06-03T00:14:10.910037",
     "status": "completed"
    },
    "tags": []
   },
   "source": [
    "As we can see, this model is much more accurate then the OneR version."
   ]
  },
  {
   "cell_type": "code",
   "execution_count": 20,
   "id": "5d7c6090",
   "metadata": {
    "execution": {
     "iopub.execute_input": "2025-06-03T00:14:10.930109Z",
     "iopub.status.busy": "2025-06-03T00:14:10.929869Z",
     "iopub.status.idle": "2025-06-03T00:14:10.936580Z",
     "shell.execute_reply": "2025-06-03T00:14:10.935980Z"
    },
    "papermill": {
     "duration": 0.014862,
     "end_time": "2025-06-03T00:14:10.937531",
     "exception": false,
     "start_time": "2025-06-03T00:14:10.922669",
     "status": "completed"
    },
    "tags": []
   },
   "outputs": [
    {
     "data": {
      "text/plain": [
       "0.17391304347826086"
      ]
     },
     "execution_count": 20,
     "metadata": {},
     "output_type": "execute_result"
    }
   ],
   "source": [
    "mean_absolute_error(val_y, m.predict(val_xs))"
   ]
  },
  {
   "cell_type": "markdown",
   "id": "cbde666b",
   "metadata": {
    "papermill": {
     "duration": 0.006357,
     "end_time": "2025-06-03T00:14:10.950404",
     "exception": false,
     "start_time": "2025-06-03T00:14:10.944047",
     "status": "completed"
    },
    "tags": []
   },
   "source": [
    "Now let's make a random forest model. First make a function to create a decision tree on a random part of the data, then iterate for the desired size of the random forest."
   ]
  },
  {
   "cell_type": "code",
   "execution_count": 21,
   "id": "5a051edc",
   "metadata": {
    "execution": {
     "iopub.execute_input": "2025-06-03T00:14:10.964551Z",
     "iopub.status.busy": "2025-06-03T00:14:10.964332Z",
     "iopub.status.idle": "2025-06-03T00:14:11.225257Z",
     "shell.execute_reply": "2025-06-03T00:14:11.224630Z"
    },
    "papermill": {
     "duration": 0.269366,
     "end_time": "2025-06-03T00:14:11.226612",
     "exception": false,
     "start_time": "2025-06-03T00:14:10.957246",
     "status": "completed"
    },
    "tags": []
   },
   "outputs": [],
   "source": [
    "def get_tree(prop=0.75):\n",
    "    n = len(trn_y)\n",
    "    idxs = random.choice(n, int(n*prop))\n",
    "    return DecisionTreeClassifier(min_samples_leaf=5).fit(trn_xs.iloc[idxs], trn_y.iloc[idxs])\n",
    "\n",
    "trees = [get_tree() for t in range(100)]"
   ]
  },
  {
   "cell_type": "markdown",
   "id": "c05e36db",
   "metadata": {
    "papermill": {
     "duration": 0.006548,
     "end_time": "2025-06-03T00:14:11.240035",
     "exception": false,
     "start_time": "2025-06-03T00:14:11.233487",
     "status": "completed"
    },
    "tags": []
   },
   "source": [
    "Then run the model:"
   ]
  },
  {
   "cell_type": "code",
   "execution_count": 22,
   "id": "c5a32939",
   "metadata": {
    "execution": {
     "iopub.execute_input": "2025-06-03T00:14:11.253960Z",
     "iopub.status.busy": "2025-06-03T00:14:11.253742Z",
     "iopub.status.idle": "2025-06-03T00:14:11.360744Z",
     "shell.execute_reply": "2025-06-03T00:14:11.360147Z"
    },
    "papermill": {
     "duration": 0.115215,
     "end_time": "2025-06-03T00:14:11.361762",
     "exception": false,
     "start_time": "2025-06-03T00:14:11.246547",
     "status": "completed"
    },
    "tags": []
   },
   "outputs": [
    {
     "data": {
      "text/plain": [
       "0.20200000000000004"
      ]
     },
     "execution_count": 22,
     "metadata": {},
     "output_type": "execute_result"
    }
   ],
   "source": [
    "all_probs = [t.predict(val_xs) for t in trees]\n",
    "avg_probs = np.stack(all_probs).mean(0)\n",
    "\n",
    "mean_absolute_error(val_y, avg_probs)"
   ]
  },
  {
   "cell_type": "markdown",
   "id": "99203b5a",
   "metadata": {
    "papermill": {
     "duration": 0.006569,
     "end_time": "2025-06-03T00:14:11.374875",
     "exception": false,
     "start_time": "2025-06-03T00:14:11.368306",
     "status": "completed"
    },
    "tags": []
   },
   "source": [
    "While the above code makes trees on random parts of the data, in order to make this a \"true\" random forest we must make each split take a random set of columns. To do this we can use sklearn's RandomForestClassifier:"
   ]
  },
  {
   "cell_type": "code",
   "execution_count": 23,
   "id": "c0c6b19c",
   "metadata": {
    "execution": {
     "iopub.execute_input": "2025-06-03T00:14:11.388665Z",
     "iopub.status.busy": "2025-06-03T00:14:11.388447Z",
     "iopub.status.idle": "2025-06-03T00:14:11.630743Z",
     "shell.execute_reply": "2025-06-03T00:14:11.630114Z"
    },
    "papermill": {
     "duration": 0.250534,
     "end_time": "2025-06-03T00:14:11.631847",
     "exception": false,
     "start_time": "2025-06-03T00:14:11.381313",
     "status": "completed"
    },
    "tags": []
   },
   "outputs": [
    {
     "data": {
      "text/plain": [
       "0.12173913043478261"
      ]
     },
     "execution_count": 23,
     "metadata": {},
     "output_type": "execute_result"
    }
   ],
   "source": [
    "from sklearn.ensemble import RandomForestClassifier\n",
    "\n",
    "rf = RandomForestClassifier(100, min_samples_leaf=5)\n",
    "rf.fit(trn_xs, trn_y);\n",
    "mean_absolute_error(val_y, rf.predict(val_xs))"
   ]
  },
  {
   "cell_type": "markdown",
   "id": "e334df31",
   "metadata": {
    "papermill": {
     "duration": 0.049018,
     "end_time": "2025-06-03T00:14:11.687849",
     "exception": false,
     "start_time": "2025-06-03T00:14:11.638831",
     "status": "completed"
    },
    "tags": []
   },
   "source": [
    "This returns a much more accurate model."
   ]
  }
 ],
 "metadata": {
  "kaggle": {
   "accelerator": "gpu",
   "dataSources": [
    {
     "datasetId": 1582403,
     "sourceId": 2603715,
     "sourceType": "datasetVersion"
    }
   ],
   "dockerImageVersionId": 31041,
   "isGpuEnabled": true,
   "isInternetEnabled": true,
   "language": "python",
   "sourceType": "notebook"
  },
  "kernelspec": {
   "display_name": "Python 3",
   "language": "python",
   "name": "python3"
  },
  "language_info": {
   "codemirror_mode": {
    "name": "ipython",
    "version": 3
   },
   "file_extension": ".py",
   "mimetype": "text/x-python",
   "name": "python",
   "nbconvert_exporter": "python",
   "pygments_lexer": "ipython3",
   "version": "3.11.11"
  },
  "papermill": {
   "default_parameters": {},
   "duration": 10.522207,
   "end_time": "2025-06-03T00:14:12.213012",
   "environment_variables": {},
   "exception": null,
   "input_path": "__notebook__.ipynb",
   "output_path": "__notebook__.ipynb",
   "parameters": {},
   "start_time": "2025-06-03T00:14:01.690805",
   "version": "2.6.0"
  },
  "widgets": {
   "application/vnd.jupyter.widget-state+json": {
    "state": {
     "0b83f892918843cdbeb7d52c462fe979": {
      "model_module": "@jupyter-widgets/output",
      "model_module_version": "1.0.0",
      "model_name": "OutputModel",
      "state": {
       "_dom_classes": [],
       "_model_module": "@jupyter-widgets/output",
       "_model_module_version": "1.0.0",
       "_model_name": "OutputModel",
       "_view_count": null,
       "_view_module": "@jupyter-widgets/output",
       "_view_module_version": "1.0.0",
       "_view_name": "OutputView",
       "layout": "IPY_MODEL_23373072a416480387a2b753ccf33811",
       "msg_id": "",
       "outputs": [
        {
         "data": {
          "text/plain": "0.49819415947416873"
         },
         "metadata": {},
         "output_type": "display_data"
        }
       ],
       "tabbable": null,
       "tooltip": null
      }
     },
     "0c9ef39ee83e4c1aaac537cbd4e2edd5": {
      "model_module": "@jupyter-widgets/base",
      "model_module_version": "2.0.0",
      "model_name": "LayoutModel",
      "state": {
       "_model_module": "@jupyter-widgets/base",
       "_model_module_version": "2.0.0",
       "_model_name": "LayoutModel",
       "_view_count": null,
       "_view_module": "@jupyter-widgets/base",
       "_view_module_version": "2.0.0",
       "_view_name": "LayoutView",
       "align_content": null,
       "align_items": null,
       "align_self": null,
       "border_bottom": null,
       "border_left": null,
       "border_right": null,
       "border_top": null,
       "bottom": null,
       "display": null,
       "flex": null,
       "flex_flow": null,
       "grid_area": null,
       "grid_auto_columns": null,
       "grid_auto_flow": null,
       "grid_auto_rows": null,
       "grid_column": null,
       "grid_gap": null,
       "grid_row": null,
       "grid_template_areas": null,
       "grid_template_columns": null,
       "grid_template_rows": null,
       "height": null,
       "justify_content": null,
       "justify_items": null,
       "left": null,
       "margin": null,
       "max_height": null,
       "max_width": null,
       "min_height": null,
       "min_width": null,
       "object_fit": null,
       "object_position": null,
       "order": null,
       "overflow": null,
       "padding": null,
       "right": null,
       "top": null,
       "visibility": null,
       "width": null
      }
     },
     "1ffe0826a9b64b7faabce48ff9f7bd88": {
      "model_module": "@jupyter-widgets/controls",
      "model_module_version": "2.0.0",
      "model_name": "VBoxModel",
      "state": {
       "_dom_classes": [
        "widget-interact"
       ],
       "_model_module": "@jupyter-widgets/controls",
       "_model_module_version": "2.0.0",
       "_model_name": "VBoxModel",
       "_view_count": null,
       "_view_module": "@jupyter-widgets/controls",
       "_view_module_version": "2.0.0",
       "_view_name": "VBoxView",
       "box_style": "",
       "children": [
        "IPY_MODEL_76317821dbe949b1b3ab888bdd8ad126",
        "IPY_MODEL_63f3754bc32545f5ac780ac446a561ab",
        "IPY_MODEL_2473e79bec1c4daa8e00c3a344992ab2"
       ],
       "layout": "IPY_MODEL_4d0e02a087bf4686934f131bf0396358",
       "tabbable": null,
       "tooltip": null
      }
     },
     "23373072a416480387a2b753ccf33811": {
      "model_module": "@jupyter-widgets/base",
      "model_module_version": "2.0.0",
      "model_name": "LayoutModel",
      "state": {
       "_model_module": "@jupyter-widgets/base",
       "_model_module_version": "2.0.0",
       "_model_name": "LayoutModel",
       "_view_count": null,
       "_view_module": "@jupyter-widgets/base",
       "_view_module_version": "2.0.0",
       "_view_name": "LayoutView",
       "align_content": null,
       "align_items": null,
       "align_self": null,
       "border_bottom": null,
       "border_left": null,
       "border_right": null,
       "border_top": null,
       "bottom": null,
       "display": null,
       "flex": null,
       "flex_flow": null,
       "grid_area": null,
       "grid_auto_columns": null,
       "grid_auto_flow": null,
       "grid_auto_rows": null,
       "grid_column": null,
       "grid_gap": null,
       "grid_row": null,
       "grid_template_areas": null,
       "grid_template_columns": null,
       "grid_template_rows": null,
       "height": null,
       "justify_content": null,
       "justify_items": null,
       "left": null,
       "margin": null,
       "max_height": null,
       "max_width": null,
       "min_height": null,
       "min_width": null,
       "object_fit": null,
       "object_position": null,
       "order": null,
       "overflow": null,
       "padding": null,
       "right": null,
       "top": null,
       "visibility": null,
       "width": null
      }
     },
     "2473e79bec1c4daa8e00c3a344992ab2": {
      "model_module": "@jupyter-widgets/output",
      "model_module_version": "1.0.0",
      "model_name": "OutputModel",
      "state": {
       "_dom_classes": [],
       "_model_module": "@jupyter-widgets/output",
       "_model_module_version": "1.0.0",
       "_model_name": "OutputModel",
       "_view_count": null,
       "_view_module": "@jupyter-widgets/output",
       "_view_module_version": "1.0.0",
       "_view_name": "OutputView",
       "layout": "IPY_MODEL_c7448ff59e6042f5a733c30a77b1b8f0",
       "msg_id": "",
       "outputs": [
        {
         "data": {
          "text/plain": "0.49819415947416873"
         },
         "metadata": {},
         "output_type": "display_data"
        }
       ],
       "tabbable": null,
       "tooltip": null
      }
     },
     "32f2151825d443b79c0644880b2b9823": {
      "model_module": "@jupyter-widgets/controls",
      "model_module_version": "2.0.0",
      "model_name": "DescriptionStyleModel",
      "state": {
       "_model_module": "@jupyter-widgets/controls",
       "_model_module_version": "2.0.0",
       "_model_name": "DescriptionStyleModel",
       "_view_count": null,
       "_view_module": "@jupyter-widgets/base",
       "_view_module_version": "2.0.0",
       "_view_name": "StyleView",
       "description_width": ""
      }
     },
     "369a970d58494cd8b8922187a18875b0": {
      "model_module": "@jupyter-widgets/base",
      "model_module_version": "2.0.0",
      "model_name": "LayoutModel",
      "state": {
       "_model_module": "@jupyter-widgets/base",
       "_model_module_version": "2.0.0",
       "_model_name": "LayoutModel",
       "_view_count": null,
       "_view_module": "@jupyter-widgets/base",
       "_view_module_version": "2.0.0",
       "_view_name": "LayoutView",
       "align_content": null,
       "align_items": null,
       "align_self": null,
       "border_bottom": null,
       "border_left": null,
       "border_right": null,
       "border_top": null,
       "bottom": null,
       "display": null,
       "flex": null,
       "flex_flow": null,
       "grid_area": null,
       "grid_auto_columns": null,
       "grid_auto_flow": null,
       "grid_auto_rows": null,
       "grid_column": null,
       "grid_gap": null,
       "grid_row": null,
       "grid_template_areas": null,
       "grid_template_columns": null,
       "grid_template_rows": null,
       "height": null,
       "justify_content": null,
       "justify_items": null,
       "left": null,
       "margin": null,
       "max_height": null,
       "max_width": null,
       "min_height": null,
       "min_width": null,
       "object_fit": null,
       "object_position": null,
       "order": null,
       "overflow": null,
       "padding": null,
       "right": null,
       "top": null,
       "visibility": null,
       "width": null
      }
     },
     "4d0e02a087bf4686934f131bf0396358": {
      "model_module": "@jupyter-widgets/base",
      "model_module_version": "2.0.0",
      "model_name": "LayoutModel",
      "state": {
       "_model_module": "@jupyter-widgets/base",
       "_model_module_version": "2.0.0",
       "_model_name": "LayoutModel",
       "_view_count": null,
       "_view_module": "@jupyter-widgets/base",
       "_view_module_version": "2.0.0",
       "_view_name": "LayoutView",
       "align_content": null,
       "align_items": null,
       "align_self": null,
       "border_bottom": null,
       "border_left": null,
       "border_right": null,
       "border_top": null,
       "bottom": null,
       "display": null,
       "flex": null,
       "flex_flow": null,
       "grid_area": null,
       "grid_auto_columns": null,
       "grid_auto_flow": null,
       "grid_auto_rows": null,
       "grid_column": null,
       "grid_gap": null,
       "grid_row": null,
       "grid_template_areas": null,
       "grid_template_columns": null,
       "grid_template_rows": null,
       "height": null,
       "justify_content": null,
       "justify_items": null,
       "left": null,
       "margin": null,
       "max_height": null,
       "max_width": null,
       "min_height": null,
       "min_width": null,
       "object_fit": null,
       "object_position": null,
       "order": null,
       "overflow": null,
       "padding": null,
       "right": null,
       "top": null,
       "visibility": null,
       "width": null
      }
     },
     "501a4e43c7ec46dbbb1664d77ab77e5f": {
      "model_module": "@jupyter-widgets/controls",
      "model_module_version": "2.0.0",
      "model_name": "DropdownModel",
      "state": {
       "_dom_classes": [],
       "_model_module": "@jupyter-widgets/controls",
       "_model_module_version": "2.0.0",
       "_model_name": "DropdownModel",
       "_options_labels": [
        "Age",
        "RestingBP",
        "Cholesterol",
        "MaxHR",
        "Oldpeak"
       ],
       "_view_count": null,
       "_view_module": "@jupyter-widgets/controls",
       "_view_module_version": "2.0.0",
       "_view_name": "DropdownView",
       "description": "nm",
       "description_allow_html": false,
       "disabled": false,
       "index": 0,
       "layout": "IPY_MODEL_b1e95afbd97a4efe8c9b538ef081a096",
       "style": "IPY_MODEL_a1af4dfeeff34151bdc226b3fb2a3679",
       "tabbable": null,
       "tooltip": null
      }
     },
     "63f3754bc32545f5ac780ac446a561ab": {
      "model_module": "@jupyter-widgets/controls",
      "model_module_version": "2.0.0",
      "model_name": "IntSliderModel",
      "state": {
       "_dom_classes": [],
       "_model_module": "@jupyter-widgets/controls",
       "_model_module_version": "2.0.0",
       "_model_name": "IntSliderModel",
       "_view_count": null,
       "_view_module": "@jupyter-widgets/controls",
       "_view_module_version": "2.0.0",
       "_view_name": "IntSliderView",
       "behavior": "drag-tap",
       "continuous_update": true,
       "description": "split",
       "description_allow_html": false,
       "disabled": false,
       "layout": "IPY_MODEL_9d28d06c9553494b92f812240a60ebcf",
       "max": 6,
       "min": -2,
       "orientation": "horizontal",
       "readout": true,
       "readout_format": "d",
       "step": 1,
       "style": "IPY_MODEL_efc47e9ec11d403ebb6f9305f112f149",
       "tabbable": null,
       "tooltip": null,
       "value": 2
      }
     },
     "64768e20a7ce40adae2eb6fa4037f722": {
      "model_module": "@jupyter-widgets/base",
      "model_module_version": "2.0.0",
      "model_name": "LayoutModel",
      "state": {
       "_model_module": "@jupyter-widgets/base",
       "_model_module_version": "2.0.0",
       "_model_name": "LayoutModel",
       "_view_count": null,
       "_view_module": "@jupyter-widgets/base",
       "_view_module_version": "2.0.0",
       "_view_name": "LayoutView",
       "align_content": null,
       "align_items": null,
       "align_self": null,
       "border_bottom": null,
       "border_left": null,
       "border_right": null,
       "border_top": null,
       "bottom": null,
       "display": null,
       "flex": null,
       "flex_flow": null,
       "grid_area": null,
       "grid_auto_columns": null,
       "grid_auto_flow": null,
       "grid_auto_rows": null,
       "grid_column": null,
       "grid_gap": null,
       "grid_row": null,
       "grid_template_areas": null,
       "grid_template_columns": null,
       "grid_template_rows": null,
       "height": null,
       "justify_content": null,
       "justify_items": null,
       "left": null,
       "margin": null,
       "max_height": null,
       "max_width": null,
       "min_height": null,
       "min_width": null,
       "object_fit": null,
       "object_position": null,
       "order": null,
       "overflow": null,
       "padding": null,
       "right": null,
       "top": null,
       "visibility": null,
       "width": null
      }
     },
     "76317821dbe949b1b3ab888bdd8ad126": {
      "model_module": "@jupyter-widgets/controls",
      "model_module_version": "2.0.0",
      "model_name": "DropdownModel",
      "state": {
       "_dom_classes": [],
       "_model_module": "@jupyter-widgets/controls",
       "_model_module_version": "2.0.0",
       "_model_name": "DropdownModel",
       "_options_labels": [
        "Sex",
        "ChestPainType",
        "RestingECG",
        "ExerciseAngina",
        "ST_Slope",
        "FastingBS"
       ],
       "_view_count": null,
       "_view_module": "@jupyter-widgets/controls",
       "_view_module_version": "2.0.0",
       "_view_name": "DropdownView",
       "description": "nm",
       "description_allow_html": false,
       "disabled": false,
       "index": 0,
       "layout": "IPY_MODEL_369a970d58494cd8b8922187a18875b0",
       "style": "IPY_MODEL_32f2151825d443b79c0644880b2b9823",
       "tabbable": null,
       "tooltip": null
      }
     },
     "8991271b7af2437ea90c87fd0c0ad86d": {
      "model_module": "@jupyter-widgets/controls",
      "model_module_version": "2.0.0",
      "model_name": "SliderStyleModel",
      "state": {
       "_model_module": "@jupyter-widgets/controls",
       "_model_module_version": "2.0.0",
       "_model_name": "SliderStyleModel",
       "_view_count": null,
       "_view_module": "@jupyter-widgets/base",
       "_view_module_version": "2.0.0",
       "_view_name": "StyleView",
       "description_width": "",
       "handle_color": null
      }
     },
     "987e7b62003143929b72fbd5a60fc3ed": {
      "model_module": "@jupyter-widgets/controls",
      "model_module_version": "2.0.0",
      "model_name": "FloatSliderModel",
      "state": {
       "_dom_classes": [],
       "_model_module": "@jupyter-widgets/controls",
       "_model_module_version": "2.0.0",
       "_model_name": "FloatSliderModel",
       "_view_count": null,
       "_view_module": "@jupyter-widgets/controls",
       "_view_module_version": "2.0.0",
       "_view_name": "FloatSliderView",
       "behavior": "drag-tap",
       "continuous_update": true,
       "description": "split",
       "description_allow_html": false,
       "disabled": false,
       "layout": "IPY_MODEL_64768e20a7ce40adae2eb6fa4037f722",
       "max": 46.5,
       "min": -15.5,
       "orientation": "horizontal",
       "readout": true,
       "readout_format": ".2f",
       "step": 0.1,
       "style": "IPY_MODEL_8991271b7af2437ea90c87fd0c0ad86d",
       "tabbable": null,
       "tooltip": null,
       "value": 15.5
      }
     },
     "9d28d06c9553494b92f812240a60ebcf": {
      "model_module": "@jupyter-widgets/base",
      "model_module_version": "2.0.0",
      "model_name": "LayoutModel",
      "state": {
       "_model_module": "@jupyter-widgets/base",
       "_model_module_version": "2.0.0",
       "_model_name": "LayoutModel",
       "_view_count": null,
       "_view_module": "@jupyter-widgets/base",
       "_view_module_version": "2.0.0",
       "_view_name": "LayoutView",
       "align_content": null,
       "align_items": null,
       "align_self": null,
       "border_bottom": null,
       "border_left": null,
       "border_right": null,
       "border_top": null,
       "bottom": null,
       "display": null,
       "flex": null,
       "flex_flow": null,
       "grid_area": null,
       "grid_auto_columns": null,
       "grid_auto_flow": null,
       "grid_auto_rows": null,
       "grid_column": null,
       "grid_gap": null,
       "grid_row": null,
       "grid_template_areas": null,
       "grid_template_columns": null,
       "grid_template_rows": null,
       "height": null,
       "justify_content": null,
       "justify_items": null,
       "left": null,
       "margin": null,
       "max_height": null,
       "max_width": null,
       "min_height": null,
       "min_width": null,
       "object_fit": null,
       "object_position": null,
       "order": null,
       "overflow": null,
       "padding": null,
       "right": null,
       "top": null,
       "visibility": null,
       "width": null
      }
     },
     "a1af4dfeeff34151bdc226b3fb2a3679": {
      "model_module": "@jupyter-widgets/controls",
      "model_module_version": "2.0.0",
      "model_name": "DescriptionStyleModel",
      "state": {
       "_model_module": "@jupyter-widgets/controls",
       "_model_module_version": "2.0.0",
       "_model_name": "DescriptionStyleModel",
       "_view_count": null,
       "_view_module": "@jupyter-widgets/base",
       "_view_module_version": "2.0.0",
       "_view_name": "StyleView",
       "description_width": ""
      }
     },
     "b1e95afbd97a4efe8c9b538ef081a096": {
      "model_module": "@jupyter-widgets/base",
      "model_module_version": "2.0.0",
      "model_name": "LayoutModel",
      "state": {
       "_model_module": "@jupyter-widgets/base",
       "_model_module_version": "2.0.0",
       "_model_name": "LayoutModel",
       "_view_count": null,
       "_view_module": "@jupyter-widgets/base",
       "_view_module_version": "2.0.0",
       "_view_name": "LayoutView",
       "align_content": null,
       "align_items": null,
       "align_self": null,
       "border_bottom": null,
       "border_left": null,
       "border_right": null,
       "border_top": null,
       "bottom": null,
       "display": null,
       "flex": null,
       "flex_flow": null,
       "grid_area": null,
       "grid_auto_columns": null,
       "grid_auto_flow": null,
       "grid_auto_rows": null,
       "grid_column": null,
       "grid_gap": null,
       "grid_row": null,
       "grid_template_areas": null,
       "grid_template_columns": null,
       "grid_template_rows": null,
       "height": null,
       "justify_content": null,
       "justify_items": null,
       "left": null,
       "margin": null,
       "max_height": null,
       "max_width": null,
       "min_height": null,
       "min_width": null,
       "object_fit": null,
       "object_position": null,
       "order": null,
       "overflow": null,
       "padding": null,
       "right": null,
       "top": null,
       "visibility": null,
       "width": null
      }
     },
     "c7448ff59e6042f5a733c30a77b1b8f0": {
      "model_module": "@jupyter-widgets/base",
      "model_module_version": "2.0.0",
      "model_name": "LayoutModel",
      "state": {
       "_model_module": "@jupyter-widgets/base",
       "_model_module_version": "2.0.0",
       "_model_name": "LayoutModel",
       "_view_count": null,
       "_view_module": "@jupyter-widgets/base",
       "_view_module_version": "2.0.0",
       "_view_name": "LayoutView",
       "align_content": null,
       "align_items": null,
       "align_self": null,
       "border_bottom": null,
       "border_left": null,
       "border_right": null,
       "border_top": null,
       "bottom": null,
       "display": null,
       "flex": null,
       "flex_flow": null,
       "grid_area": null,
       "grid_auto_columns": null,
       "grid_auto_flow": null,
       "grid_auto_rows": null,
       "grid_column": null,
       "grid_gap": null,
       "grid_row": null,
       "grid_template_areas": null,
       "grid_template_columns": null,
       "grid_template_rows": null,
       "height": null,
       "justify_content": null,
       "justify_items": null,
       "left": null,
       "margin": null,
       "max_height": null,
       "max_width": null,
       "min_height": null,
       "min_width": null,
       "object_fit": null,
       "object_position": null,
       "order": null,
       "overflow": null,
       "padding": null,
       "right": null,
       "top": null,
       "visibility": null,
       "width": null
      }
     },
     "cf4b35820fe842d9aa1ae96f049ebc44": {
      "model_module": "@jupyter-widgets/controls",
      "model_module_version": "2.0.0",
      "model_name": "VBoxModel",
      "state": {
       "_dom_classes": [
        "widget-interact"
       ],
       "_model_module": "@jupyter-widgets/controls",
       "_model_module_version": "2.0.0",
       "_model_name": "VBoxModel",
       "_view_count": null,
       "_view_module": "@jupyter-widgets/controls",
       "_view_module_version": "2.0.0",
       "_view_name": "VBoxView",
       "box_style": "",
       "children": [
        "IPY_MODEL_501a4e43c7ec46dbbb1664d77ab77e5f",
        "IPY_MODEL_987e7b62003143929b72fbd5a60fc3ed",
        "IPY_MODEL_0b83f892918843cdbeb7d52c462fe979"
       ],
       "layout": "IPY_MODEL_0c9ef39ee83e4c1aaac537cbd4e2edd5",
       "tabbable": null,
       "tooltip": null
      }
     },
     "efc47e9ec11d403ebb6f9305f112f149": {
      "model_module": "@jupyter-widgets/controls",
      "model_module_version": "2.0.0",
      "model_name": "SliderStyleModel",
      "state": {
       "_model_module": "@jupyter-widgets/controls",
       "_model_module_version": "2.0.0",
       "_model_name": "SliderStyleModel",
       "_view_count": null,
       "_view_module": "@jupyter-widgets/base",
       "_view_module_version": "2.0.0",
       "_view_name": "StyleView",
       "description_width": "",
       "handle_color": null
      }
     }
    },
    "version_major": 2,
    "version_minor": 0
   }
  }
 },
 "nbformat": 4,
 "nbformat_minor": 5
}
